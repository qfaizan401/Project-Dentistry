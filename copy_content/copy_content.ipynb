{
 "cells": [
  {
   "cell_type": "code",
   "execution_count": 40,
   "metadata": {},
   "outputs": [],
   "source": [
    "import os\n",
    "import shutil"
   ]
  },
  {
   "cell_type": "code",
   "execution_count": 43,
   "metadata": {},
   "outputs": [],
   "source": [
    "def copy_content (current_dir, target_dir, extension):\n",
    "    if os.path.exists(current_dir) and os.path.exists(target_dir):\n",
    "        current_dir_files = [f for f in os.listdir(current_dir)]\n",
    "        extension_files = [f for f in current_dir_files if f.endswith(extension)]\n",
    "        for f in extension_files:\n",
    "            shutil.copy(os.path.join(current_dir,f), target_dir)\n",
    "        print('Task Completed')\n",
    "    else:\n",
    "        print('Not working')"
   ]
  },
  {
   "cell_type": "code",
   "execution_count": 44,
   "metadata": {},
   "outputs": [
    {
     "name": "stdin",
     "output_type": "stream",
     "text": [
      " D:\\Faizan\\Sir Zia\\UPDATED-20210226T114106Z-001\\UPDATED\n",
      " D:\\Faizan\\Sir Zia\\Images\n",
      " .jpg\n"
     ]
    }
   ],
   "source": [
    "a = input()\n",
    "b = input()\n",
    "c = input()\n",
    "copy_content(a,b,c)"
   ]
  },
  {
   "cell_type": "code",
   "execution_count": null,
   "metadata": {},
   "outputs": [],
   "source": [
    "from os.path import exists, join\n",
    "from os import listdir\n",
    "from shutil import copy\n",
    "\n",
    "def copy_content (current_dir, target_dir, extension):\n",
    "    if exists(current_dir) and exists(target_dir):\n",
    "        current_dir_files = [f for f in listdir(current_dir)]\n",
    "        extension_files = [f for f in current_dir_files if f.endswith(extension)]\n",
    "        for f in extension_files:\n",
    "            copy(join(current_dir,f), target_dir)\n",
    "        return('Task Completed')\n",
    "    else:\n",
    "        return('Not working')\n",
    "    \n"
   ]
  }
 ],
 "metadata": {
  "kernelspec": {
   "display_name": "Python 3",
   "language": "python",
   "name": "python3"
  },
  "language_info": {
   "codemirror_mode": {
    "name": "ipython",
    "version": 3
   },
   "file_extension": ".py",
   "mimetype": "text/x-python",
   "name": "python",
   "nbconvert_exporter": "python",
   "pygments_lexer": "ipython3",
   "version": "3.8.8"
  }
 },
 "nbformat": 4,
 "nbformat_minor": 4
}
