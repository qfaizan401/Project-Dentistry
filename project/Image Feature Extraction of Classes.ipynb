{
 "cells": [
  {
   "cell_type": "code",
   "execution_count": null,
   "metadata": {},
   "outputs": [],
   "source": [
    "import numpy as np\n",
    "import pandas as pd\n",
    "import matplotlib.image as mpimg       \n",
    "import matplotlib.pyplot as plt        \n",
    "import matplotlib.patches as mpatches \n",
    "from skimage import measure         \n",
    "import scipy.ndimage as ndi  \n",
    "from os.path import exists, join\n",
    "from os import listdir\n",
    "import sys"
   ]
  },
  {
   "cell_type": "code",
   "execution_count": null,
   "metadata": {},
   "outputs": [],
   "source": [
    "%matplotlib inline\n",
    "from pylab import rcParams\n",
    "rcParams['figure.figsize'] = (6, 6) "
   ]
  },
  {
   "cell_type": "code",
   "execution_count": null,
   "metadata": {},
   "outputs": [],
   "source": [
    "image = mpimg.imread('sample_data/images/2.jpg')"
   ]
  },
  {
   "cell_type": "code",
   "execution_count": null,
   "metadata": {},
   "outputs": [],
   "source": [
    "def Image(image_selection):\n",
    "    if exists(image_selection):\n",
    "        image_selection_filename = [f for f in listdir(image_selection)]\n",
    "    else:\n",
    "        massage = 'Some error occur'\n",
    "        return print(massage)\n",
    "\n",
    "def main():\n",
    "    image_selection = input(\"Enter Your Image NO / Image Name : \\n\")\n",
    "    Image(image_selection=image_selection)\n",
    "    return\n",
    "\n",
    "if __name__ == '__main__':\n",
    "    main()"
   ]
  },
  {
   "cell_type": "code",
   "execution_count": null,
   "metadata": {},
   "outputs": [],
   "source": [
    "import os\n",
    "\n",
    "images = os.join('sample_data/images')"
   ]
  },
  {
   "cell_type": "code",
   "execution_count": null,
   "metadata": {},
   "outputs": [],
   "source": [
    "select_image = input(images)"
   ]
  },
  {
   "cell_type": "code",
   "execution_count": null,
   "metadata": {},
   "outputs": [],
   "source": [
    "showimages = mpimg.imread(select_image)"
   ]
  },
  {
   "cell_type": "code",
   "execution_count": null,
   "metadata": {},
   "outputs": [],
   "source": [
    "showimages"
   ]
  },
  {
   "cell_type": "code",
   "execution_count": null,
   "metadata": {},
   "outputs": [],
   "source": [
    "showimages.transpose(2,0,1).reshape(3,-1)"
   ]
  },
  {
   "cell_type": "code",
   "execution_count": null,
   "metadata": {},
   "outputs": [],
   "source": [
    "img = mpimg.imread(image)\n",
    "\n",
    "cy, cx = ndi.center_of_mass(img)\n",
    "\n",
    "plt.imshow(img, cmap='Set3')  \n",
    "plt.scatter(cx, cy)           \n",
    "plt.show()"
   ]
  },
  {
   "cell_type": "code",
   "execution_count": 1,
   "metadata": {},
   "outputs": [],
   "source": [
    "import os\n",
    "from skimage import io"
   ]
  },
  {
   "cell_type": "code",
   "execution_count": 2,
   "metadata": {},
   "outputs": [],
   "source": [
    "def input_img (img_file):\n",
    "    if os.path.exists(img_file):\n",
    "        img = io.imread(img_file)\n",
    "        return img\n",
    "    else:\n",
    "        return f'file not found'"
   ]
  },
  {
   "cell_type": "code",
   "execution_count": null,
   "metadata": {},
   "outputs": [],
   "source": [
    "img_dir = 'sample_data/images'\n",
    "user_input = input('Enter file name')\n",
    "\n",
    "img_file_path = os.path.join(img_dir, img_file)\n",
    "img = input_img(img_)"
   ]
  }
 ],
 "metadata": {
  "kernelspec": {
   "display_name": "Python 3",
   "language": "python",
   "name": "python3"
  },
  "language_info": {
   "codemirror_mode": {
    "name": "ipython",
    "version": 3
   },
   "file_extension": ".py",
   "mimetype": "text/x-python",
   "name": "python",
   "nbconvert_exporter": "python",
   "pygments_lexer": "ipython3",
   "version": "3.8.8"
  }
 },
 "nbformat": 4,
 "nbformat_minor": 4
}
