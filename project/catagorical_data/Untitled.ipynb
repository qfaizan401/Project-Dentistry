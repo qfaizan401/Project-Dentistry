{
 "cells": [
  {
   "cell_type": "code",
   "execution_count": 1,
   "id": "metric-exercise",
   "metadata": {},
   "outputs": [],
   "source": [
    "import os\n",
    "import shutil\n",
    "import pandas as pd\n",
    "import numpy as np"
   ]
  },
  {
   "cell_type": "code",
   "execution_count": 2,
   "id": "thermal-combination",
   "metadata": {
    "scrolled": true
   },
   "outputs": [
    {
     "name": "stdout",
     "output_type": "stream",
     "text": [
      "['2.txt', '3.txt', '5.txt', '6.txt', '7.txt', '8.txt', '9.txt', '10.txt', '11.txt', '12.txt', '13.txt', '14.txt', '15.txt', '16.txt', '17.txt', '18.txt', '19.txt', '20.txt', '21.txt', '22.txt', '23.txt', '24.txt', '25.txt', '26.txt', '27.txt', '28.txt', '29.txt', '30.txt', '31.txt', '32.txt', '33.txt', '34.txt', '35.txt', '36.txt', '37.txt', '38.txt', '41.txt', '42.txt', '43.txt', '44.txt', '45.txt', '46.txt', '47.txt', '48.txt', '50.txt', '51.txt', '52.txt', '53.txt', '55.txt', '56.txt', '57.txt', '58.txt', '59.txt', '60.txt', '61.txt', '62.txt', '64.txt', '65.txt', '66.txt', '67.txt', '68.txt', '69.txt', '70.txt', '71.txt', '72.txt', '73.txt', '74.txt', '75.txt', '76.txt', '77.txt', '78.txt', '79.txt', '80.txt', '81.txt', '83.txt', '84.txt', '85.txt', '86.txt', '87.txt', '88.txt', '89.txt', '90.txt', '91.txt', '92.txt', '95.txt', '96.txt', '97.txt', '98.txt', '99.txt', '100.txt', '101.txt', '103.txt', '104.txt', '105.txt', '106.txt', '107.txt', '108.txt', '111.txt', '114.txt', '116.txt', '117.txt', '118.txt', '119.txt', '121.txt', '122.txt', '123.txt', '125.txt', '126.txt', '127.txt', '128.txt', '130.txt', '132.txt', '133.txt', '134.txt', '136.txt', '137.txt', '138.txt', '139.txt', '140.txt', '141.txt', '142.txt', '143.txt', '144.txt', '145.txt', '146.txt', '147.txt', '149.txt', '150.txt', '151.txt', '152.txt', '153.txt', '154.txt', '155.txt', '156.txt', '158.txt', '159.txt', '160.txt', '161.txt', '162.txt', '163.txt', '165.txt', '166.txt', '167.txt', '169.txt', '171.txt', '172.txt', '173.txt', '175.txt', '176.txt', '177.txt', '179.txt', '180.txt', '181.txt', '182.txt', '186.txt', '187.txt', '190.txt', '191.txt', '192.txt', '193.txt', '195.txt', '196.txt', '197.txt', '198.txt', '199.txt', '201.txt', '203.txt', '204.txt', '205.txt', '206.txt', '207.txt', '208.txt', '211.txt', '214.txt', '216.txt', '217.txt', '219.txt', '220.txt', '221.txt', '223.txt', '224.txt', '225.txt', '226.txt', '227.txt', '228.txt', '229.txt', '230.txt', '231.txt', '232.txt', '234.txt', '235.txt', '236.txt', '237.txt', '239.txt', '240.txt', '241.txt', '242.txt', '243.txt', '244.txt', '245.txt', '246.txt', '247.txt', '248.txt', '250.txt', '252.txt', '253.txt', '254.txt', '255.txt', '257.txt', '258.txt', '259.txt', '260.txt', '261.txt', '262.txt', '263.txt', '264.txt', '266.txt', '267.txt', '268.txt', '269.txt', '270.txt', '271.txt', '272.txt', '274.txt', '275.txt', '276.txt', '277.txt', '278.txt', '279.txt', '280.txt', '281.txt', '282.txt', '283.txt', '284.txt', '285.txt', '286.txt', '287.txt', '288.txt', '289.txt', '290.txt', '291.txt', '292.txt', '293.txt', '294.txt', '296.txt', '297.txt', '298.txt', '299.txt', '300.txt', '301.txt', '302.txt', '303.txt', '304.txt', '305.txt', '306.txt', '308.txt', '309.txt', '310.txt', '311.txt', '312.txt', '313.txt', '315.txt', '316.txt', '318.txt', '319.txt', '320.txt', '321.txt', '322.txt', '323.txt', '324.txt', '326.txt', '327.txt', '328.txt', '329.txt', '330.txt', '331.txt', '332.txt', '333.txt', '335.txt', '336.txt', '337.txt', '338.txt', '339.txt', '340.txt', '341.txt', '342.txt', '343.txt', '344.txt', '345.txt', '346.txt', '347.txt', '348.txt', '349.txt', '350.txt', '351.txt', '353.txt', '355.txt', '357.txt', '358.txt', '359.txt', '360.txt', '361.txt', '362.txt', '363.txt', '364.txt', '365.txt', '366.txt', '367.txt', '368.txt', '369.txt', '370.txt', '371.txt', '373.txt', '374.txt', '375.txt', '376.txt', '377.txt', '378.txt', '379.txt', '380.txt', '381.txt', '382.txt', '383.txt', '384.txt', '385.txt', '386.txt', '387.txt', '388.txt', '389.txt', '390.txt', '391.txt', '392.txt', '393.txt', '394.txt', '395.txt', '396.txt', '397.txt', '399.txt', '400.txt', '401.txt', '402.txt', '403.txt', '404.txt', '405.txt', '406.txt', '407.txt', '408.txt', '409.txt', '410.txt', '411.txt', '412.txt', '413.txt', '414.txt', '415.txt', '416.txt', '417.txt', '418.txt', '419.txt', '420.txt', '421.txt', '422.txt', '423.txt', '424.txt', '425.txt', '426.txt', '427.txt', '428.txt', '429.txt', '430.txt', '431.txt', '432.txt', '433.txt', '434.txt', '435.txt', '436.txt', '437.txt', '438.txt', '439.txt', '440.txt', '441.txt', '442.txt', '443.txt', '444.txt', '445.txt', '446.txt', '447.txt', '448.txt', '449.txt', '451.txt', '452.txt', '453.txt', '454.txt', '455.txt', '456.txt', '457.txt', '458.txt', '459.txt', '460.txt', '461.txt', '462.txt', '463.txt', '464.txt', '465.txt', '466.txt', '467.txt', '468.txt', '469.txt', '470.txt', '471.txt', '472.txt', '473.txt', '474.txt', '475.txt', '476.txt', '477.txt', '478.txt', '479.txt', '480.txt', '481.txt', '482.txt', '483.txt', '484.txt', '485.txt', '486.txt', '487.txt', '488.txt', '489.txt', '490.txt', '491.txt', '492.txt', '493.txt', '494.txt', '495.txt', '496.txt', '497.txt', '498.txt', '499.txt', '500.txt', '501.txt', '502.txt', '503.txt', '504.txt', '505.txt', '506.txt', '507.txt', '508.txt', '509.txt', '510.txt', '511.txt', '512.txt', '513.txt', '514.txt', '515.txt', '517.txt', '518.txt', '519.txt', '520.txt', '521.txt', '522.txt', '523.txt', '524.txt', '525.txt', '526.txt', '527.txt', '528.txt', '529.txt', '530.txt', '531.txt', '532.txt', '533.txt', '534.txt', '535.txt', '536.txt', '537.txt', '538.txt', '539.txt', '540.txt', '541.txt', '542.txt', '543.txt', '544.txt', '545.txt', '546.txt', '547.txt', '548.txt', '549.txt', '550.txt', '551.txt', '552.txt', '553.txt', '554.txt', '555.txt', '556.txt', '557.txt', '558.txt', '559.txt', '560.txt', '561.txt', '562.txt', '563.txt', '564.txt', '565.txt', '566.txt', '567.txt', '568.txt', '569.txt', '570.txt', '571.txt', '572.txt', '573.txt', '574.txt', '575.txt', '576.txt', '577.txt', '578.txt', '579.txt', '580.txt', '581.txt', '582.txt', '583.txt', '584.txt', '585.txt', '586.txt', '587.txt', '588.txt', '590.txt', '591.txt', '592.txt', '593.txt', '594.txt', '595.txt', '596.txt', '597.txt', '598.txt', '599.txt', '600.txt', '601.txt', '602.txt', '603.txt', '604.txt', '605.txt', '606.txt', '607.txt', '608.txt', '609.txt', '610.txt', '611.txt', '613.txt', '615.txt', '616.txt', '618.txt', '619.txt', '620.txt', '621.txt', '622.txt', '623.txt', '624.txt', '626.txt', '627.txt', '628.txt', '630.txt', '631.txt', '633.txt', '634.txt', '635.txt', '636.txt', '637.txt', '638.txt', '639.txt', '640.txt', '641.txt', '642.txt', '643.txt', '644.txt', '645.txt', '646.txt', '648.txt', '649.txt', '650.txt', '651.txt', '655.txt', '656.txt', '658.txt', '659.txt', '660.txt', '661.txt', '662.txt', '663.txt', '664.txt', '665.txt', '666.txt', '667.txt', '668.txt', '670.txt', '671.txt', '672.txt', '673.txt', '674.txt', '675.txt', '676.txt', '677.txt', '678.txt', '679.txt', '680.txt', '681.txt', '682.txt', '686.txt', '687.txt', '688.txt', '689.txt', '690.txt', '691.txt', '692.txt', '693.txt', '694.txt', '695.txt', '696.txt', '697.txt', '698.txt', '699.txt', '700.txt', '701.txt', '702.txt', '703.txt', '704.txt', '706.txt', '707.txt', '709.txt', '710.txt', '712.txt', '713.txt', '714.txt', '715.txt', '716.txt', '717.txt', '720.txt']\n"
     ]
    }
   ],
   "source": [
    "lable_dir = 'D:\\Faizan\\Sir Zia\\Lables'\n",
    "lable_list = [f for f in os.listdir(lable_dir)]\n",
    "del lable_list[-1]\n",
    "lable_list.sort(key=len)\n",
    "print(lable_list)"
   ]
  },
  {
   "cell_type": "code",
   "execution_count": 3,
   "id": "imported-blink",
   "metadata": {
    "scrolled": true
   },
   "outputs": [
    {
     "name": "stdout",
     "output_type": "stream",
     "text": [
      "['2.jpg', '3.jpg', '5.jpg', '6.jpg', '7.jpg', '8.jpg', '9.jpg', '10.jpg', '11.jpg', '12.jpg', '13.jpg', '14.jpg', '15.jpg', '16.jpg', '17.jpg', '18.jpg', '19.jpg', '20.jpg', '21.jpg', '22.jpg', '23.jpg', '24.jpg', '25.jpg', '26.jpg', '27.jpg', '28.jpg', '29.jpg', '30.jpg', '31.jpg', '32.jpg', '33.jpg', '34.jpg', '35.jpg', '36.jpg', '37.jpg', '38.jpg', '41.jpg', '42.jpg', '43.jpg', '44.jpg', '45.jpg', '46.jpg', '47.jpg', '48.jpg', '50.jpg', '51.jpg', '52.jpg', '53.jpg', '55.jpg', '56.jpg', '57.jpg', '58.jpg', '59.jpg', '60.jpg', '61.jpg', '62.jpg', '64.jpg', '65.jpg', '66.jpg', '67.jpg', '68.jpg', '69.jpg', '70.jpg', '71.jpg', '72.jpg', '73.jpg', '74.jpg', '75.jpg', '76.jpg', '77.jpg', '78.jpg', '79.jpg', '80.jpg', '81.jpg', '83.jpg', '84.jpg', '85.jpg', '86.jpg', '87.jpg', '88.jpg', '89.jpg', '90.jpg', '91.jpg', '92.jpg', '95.jpg', '96.jpg', '97.jpg', '98.jpg', '99.jpg', '100.jpg', '101.jpg', '103.jpg', '104.jpg', '105.jpg', '106.jpg', '107.jpg', '108.jpg', '111.jpg', '114.jpg', '116.jpg', '117.jpg', '118.jpg', '119.jpg', '121.jpg', '122.jpg', '123.jpg', '125.jpg', '126.jpg', '127.jpg', '128.jpg', '130.jpg', '132.jpg', '133.jpg', '134.jpg', '136.jpg', '137.jpg', '138.jpg', '139.jpg', '140.jpg', '141.jpg', '142.jpg', '143.jpg', '144.jpg', '145.jpg', '146.jpg', '147.jpg', '149.jpg', '150.jpg', '151.jpg', '152.jpg', '153.jpg', '154.jpg', '155.jpg', '156.jpg', '158.jpg', '159.jpg', '160.jpg', '161.jpg', '162.jpg', '163.jpg', '165.jpg', '166.jpg', '167.jpg', '169.jpg', '171.jpg', '172.jpg', '173.jpg', '175.jpg', '176.jpg', '177.jpg', '179.jpg', '180.jpg', '181.jpg', '182.jpg', '186.jpg', '187.jpg', '190.jpg', '191.jpg', '192.jpg', '193.jpg', '195.jpg', '196.jpg', '197.jpg', '198.jpg', '199.jpg', '201.jpg', '203.jpg', '204.jpg', '205.jpg', '206.jpg', '207.jpg', '208.jpg', '211.jpg', '214.jpg', '216.jpg', '217.jpg', '219.jpg', '220.jpg', '221.jpg', '224.jpg', '225.jpg', '226.jpg', '227.jpg', '228.jpg', '229.jpg', '230.jpg', '231.jpg', '232.jpg', '233.jpg', '234.jpg', '235.jpg', '236.jpg', '237.jpg', '239.jpg', '240.jpg', '241.jpg', '242.jpg', '243.jpg', '244.jpg', '245.jpg', '246.jpg', '247.jpg', '248.jpg', '250.jpg', '252.jpg', '253.jpg', '254.jpg', '255.jpg', '257.jpg', '258.jpg', '259.jpg', '260.jpg', '261.jpg', '262.jpg', '263.jpg', '264.jpg', '266.jpg', '267.jpg', '268.jpg', '269.jpg', '270.jpg', '271.jpg', '272.jpg', '274.jpg', '275.jpg', '276.jpg', '277.jpg', '278.jpg', '279.jpg', '280.jpg', '281.jpg', '282.jpg', '283.jpg', '284.jpg', '285.jpg', '286.jpg', '287.jpg', '288.jpg', '289.jpg', '290.jpg', '291.jpg', '292.jpg', '293.jpg', '294.jpg', '296.jpg', '297.jpg', '298.jpg', '299.jpg', '300.jpg', '301.jpg', '302.jpg', '303.jpg', '304.jpg', '305.jpg', '306.jpg', '308.jpg', '309.jpg', '310.jpg', '311.jpg', '312.jpg', '313.jpg', '315.jpg', '316.jpg', '318.jpg', '319.jpg', '320.jpg', '321.jpg', '322.jpg', '323.jpg', '324.jpg', '326.jpg', '327.jpg', '328.jpg', '329.jpg', '330.jpg', '331.jpg', '332.jpg', '333.jpg', '335.jpg', '336.jpg', '337.jpg', '338.jpg', '339.jpg', '340.jpg', '341.jpg', '342.jpg', '343.jpg', '344.jpg', '345.jpg', '346.jpg', '347.jpg', '348.jpg', '349.jpg', '350.jpg', '351.jpg', '353.jpg', '355.jpg', '357.jpg', '358.jpg', '359.jpg', '360.jpg', '361.jpg', '362.jpg', '363.jpg', '364.jpg', '365.jpg', '366.jpg', '367.jpg', '368.jpg', '369.jpg', '370.jpg', '371.jpg', '373.jpg', '374.jpg', '375.jpg', '376.jpg', '377.jpg', '378.jpg', '379.jpg', '380.jpg', '381.jpg', '382.jpg', '383.jpg', '384.jpg', '385.jpg', '386.jpg', '387.jpg', '388.jpg', '389.jpg', '390.jpg', '391.jpg', '392.jpg', '393.jpg', '394.jpg', '395.jpg', '396.jpg', '397.jpg', '399.jpg', '400.jpg', '401.jpg', '402.jpg', '403.jpg', '404.jpg', '405.jpg', '406.jpg', '407.jpg', '408.jpg', '409.jpg', '410.jpg', '411.jpg', '412.jpg', '413.jpg', '414.jpg', '415.jpg', '416.jpg', '417.jpg', '418.jpg', '419.jpg', '420.jpg', '421.jpg', '422.jpg', '423.jpg', '424.jpg', '425.jpg', '426.jpg', '427.jpg', '428.jpg', '429.jpg', '430.jpg', '431.jpg', '432.jpg', '433.jpg', '434.jpg', '435.jpg', '436.jpg', '437.jpg', '438.jpg', '439.jpg', '440.jpg', '441.jpg', '442.jpg', '443.jpg', '444.jpg', '445.jpg', '446.jpg', '447.jpg', '448.jpg', '449.jpg', '451.jpg', '452.jpg', '453.jpg', '454.jpg', '455.jpg', '456.jpg', '457.jpg', '458.jpg', '459.jpg', '460.jpg', '461.jpg', '462.jpg', '463.jpg', '464.jpg', '465.jpg', '466.jpg', '467.jpg', '468.jpg', '469.jpg', '470.jpg', '471.jpg', '472.jpg', '473.jpg', '474.jpg', '475.jpg', '476.jpg', '477.jpg', '478.jpg', '479.jpg', '480.jpg', '481.jpg', '482.jpg', '483.jpg', '484.jpg', '485.jpg', '486.jpg', '487.jpg', '488.jpg', '489.jpg', '490.jpg', '491.jpg', '492.jpg', '493.jpg', '494.jpg', '495.jpg', '496.jpg', '497.jpg', '498.jpg', '499.jpg', '500.jpg', '501.jpg', '502.jpg', '503.jpg', '504.jpg', '505.jpg', '506.jpg', '507.jpg', '508.jpg', '509.jpg', '510.jpg', '511.jpg', '512.jpg', '513.jpg', '514.jpg', '515.jpg', '517.jpg', '518.jpg', '519.jpg', '520.jpg', '521.jpg', '522.jpg', '523.jpg', '524.jpg', '525.jpg', '526.jpg', '527.jpg', '528.jpg', '529.jpg', '530.jpg', '531.jpg', '532.jpg', '533.jpg', '534.jpg', '535.jpg', '536.jpg', '537.jpg', '538.jpg', '539.jpg', '540.jpg', '541.jpg', '542.jpg', '543.jpg', '544.jpg', '545.jpg', '546.jpg', '547.jpg', '548.jpg', '549.jpg', '550.jpg', '551.jpg', '552.jpg', '553.jpg', '554.jpg', '555.jpg', '556.jpg', '557.jpg', '558.jpg', '559.jpg', '560.jpg', '561.jpg', '562.jpg', '563.jpg', '564.jpg', '565.jpg', '566.jpg', '567.jpg', '568.jpg', '569.jpg', '570.jpg', '571.jpg', '572.jpg', '573.jpg', '574.jpg', '575.jpg', '576.jpg', '577.jpg', '578.jpg', '579.jpg', '580.jpg', '581.jpg', '582.jpg', '583.jpg', '584.jpg', '585.jpg', '586.jpg', '587.jpg', '588.jpg', '590.jpg', '591.jpg', '592.jpg', '593.jpg', '594.jpg', '595.jpg', '596.jpg', '597.jpg', '598.jpg', '599.jpg', '600.jpg', '601.jpg', '602.jpg', '603.jpg', '604.jpg', '605.jpg', '606.jpg', '607.jpg', '608.jpg', '609.jpg', '610.jpg', '611.jpg', '613.jpg', '615.jpg', '616.jpg', '617.jpg', '618.jpg', '619.jpg', '620.jpg', '621.jpg', '622.jpg', '623.jpg', '624.jpg', '626.jpg', '627.jpg', '628.jpg', '630.jpg', '631.jpg', '633.jpg', '634.jpg', '635.jpg', '636.jpg', '637.jpg', '638.jpg', '639.jpg', '640.jpg', '641.jpg', '642.jpg', '643.jpg', '644.jpg', '645.jpg', '646.jpg', '648.jpg', '649.jpg', '650.jpg', '651.jpg', '655.jpg', '656.jpg', '658.jpg', '659.jpg', '660.jpg', '661.jpg', '662.jpg', '663.jpg', '664.jpg', '665.jpg', '666.jpg', '667.jpg', '668.jpg', '670.jpg', '671.jpg', '672.jpg', '673.jpg', '674.jpg', '675.jpg', '676.jpg', '677.jpg', '678.jpg', '679.jpg', '680.jpg', '681.jpg', '682.jpg', '686.jpg', '687.jpg', '688.jpg', '689.jpg', '690.jpg', '691.jpg', '692.jpg', '693.jpg', '694.jpg', '695.jpg', '696.jpg', '697.jpg', '698.jpg', '699.jpg', '700.jpg', '701.jpg', '702.jpg', '703.jpg', '704.jpg', '706.jpg', '707.jpg', '709.jpg', '710.jpg', '712.jpg', '713.jpg', '714.jpg', '715.jpg', '716.jpg', '717.jpg', '718.jpg', '719.jpg', '720.jpg', '.ipynb_checkpoints']\n"
     ]
    }
   ],
   "source": [
    "img_dir = 'D:\\Faizan\\Sir Zia\\Images'\n",
    "img_list = [f for f in os.listdir(img_dir)]\n",
    "img_list.sort(key=len)\n",
    "print(img_list)"
   ]
  },
  {
   "cell_type": "code",
   "execution_count": 6,
   "id": "skilled-thirty",
   "metadata": {},
   "outputs": [],
   "source": [
    "target_0 = 'cavity0'\n",
    "target_1 = 'crown1'\n",
    "target_2 = 'restoration2'\n",
    "target_3 = 'missing_tooth3'\n",
    "target_4 = 'root_canal_treated4'\n",
    "\n",
    "for i in range(len(lable_list)):\n",
    "    df = pd.read_csv(os.path.join(lable_dir, lable_list[i]), sep=\" \", header=None, names=['Lables', 'a', 'b', 'c', 'd'])\n",
    "    lables = df.Lables\n",
    "    for j in lables:\n",
    "        if j==0:\n",
    "            shutil.copy(os.path.join(img_dir, img_list[i]), target_0)\n",
    "        if j==1:\n",
    "            shutil.copy(os.path.join(img_dir, img_list[i]), target_1)\n",
    "        if j==2:\n",
    "            shutil.copy(os.path.join(img_dir, img_list[i]), target_2)\n",
    "        if j==3:\n",
    "            shutil.copy(os.path.join(img_dir, img_list[i]), target_3)\n",
    "        if j==4:\n",
    "            shutil.copy(os.path.join(img_dir, img_list[i]), target_4)"
   ]
  },
  {
   "cell_type": "code",
   "execution_count": null,
   "id": "funky-cooperation",
   "metadata": {},
   "outputs": [],
   "source": []
  }
 ],
 "metadata": {
  "kernelspec": {
   "display_name": "Python 3",
   "language": "python",
   "name": "python3"
  },
  "language_info": {
   "codemirror_mode": {
    "name": "ipython",
    "version": 3
   },
   "file_extension": ".py",
   "mimetype": "text/x-python",
   "name": "python",
   "nbconvert_exporter": "python",
   "pygments_lexer": "ipython3",
   "version": "3.8.8"
  }
 },
 "nbformat": 4,
 "nbformat_minor": 5
}
