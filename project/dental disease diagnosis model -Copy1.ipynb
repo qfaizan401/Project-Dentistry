{
 "cells": [
  {
   "cell_type": "code",
   "execution_count": 1,
   "metadata": {},
   "outputs": [],
   "source": [
    "import pandas as pd\n",
    "from matplotlib import pyplot as plt\n",
    "import seaborn as sns\n",
    "import numpy as np"
   ]
  },
  {
   "cell_type": "code",
   "execution_count": 2,
   "metadata": {},
   "outputs": [],
   "source": [
    "df = pd.read_csv('Final_CSVs/singal_csv/shuffled_combine_dataset.csv')"
   ]
  },
  {
   "cell_type": "code",
   "execution_count": 3,
   "metadata": {
    "scrolled": true
   },
   "outputs": [
    {
     "name": "stdout",
     "output_type": "stream",
     "text": [
      "                            count          mean            std           min  \\\n",
      "img_no                    11832.0   5915.500000    3415.748527  0.000000e+00   \n",
      "area                      11832.0  12107.747295   33344.483685  7.100000e+01   \n",
      "bbox-0                    11832.0    152.872972     145.501337  0.000000e+00   \n",
      "bbox-1                    11832.0    180.229462     178.493655  0.000000e+00   \n",
      "bbox-2                    11832.0    252.858857     150.493227  1.000000e+00   \n",
      "bbox-3                    11832.0    299.469912     195.293846  1.000000e+00   \n",
      "bbox_area                 11832.0  33020.895791   84308.766262  7.200000e+01   \n",
      "centroid-0                11832.0    202.416966     133.737039  0.000000e+00   \n",
      "centroid-1                11832.0    239.987850     168.447276  0.000000e+00   \n",
      "convex_area               11832.0  26765.656271   71348.842186  7.200000e+01   \n",
      "eccentricity              11832.0      0.848338       0.142836  1.245593e-01   \n",
      "equivalent_diameter       11832.0     67.475814     104.230492  9.507892e+00   \n",
      "euler_number              11832.0    -35.660074      90.674278 -8.670000e+02   \n",
      "extent                    11832.0      0.408751       0.155130  8.768589e-03   \n",
      "filled_area               11832.0  13428.484280   38053.752960  7.100000e+01   \n",
      "inertia_tensor_eigvals-0  11832.0   3634.116443    8516.382353  6.900291e+00   \n",
      "inertia_tensor_eigvals-1  11832.0   1190.727461    3415.935189  0.000000e+00   \n",
      "local_centroid-0          11832.0     49.543994      72.345343  0.000000e+00   \n",
      "local_centroid-1          11832.0     59.758388      94.579148  0.000000e+00   \n",
      "major_axis_length         11832.0    144.451234     193.087688  1.050736e+01   \n",
      "minor_axis_length         11832.0     68.643102     119.753814  0.000000e+00   \n",
      "moments_hu-0              11832.0      1.352588       4.008189  1.611749e-01   \n",
      "moments_hu-1              11832.0     17.463512     116.179618  1.840000e-06   \n",
      "moments_hu-2              11832.0     11.392966     186.195686  0.000000e+00   \n",
      "moments_hu-3              11832.0      7.813431     147.998898  0.000000e+00   \n",
      "moments_hu-4              11832.0  23264.648466  913588.407444 -4.499149e+04   \n",
      "moments_hu-5              11832.0    140.627526    3360.297002 -2.063033e+03   \n",
      "moments_hu-6              11832.0   -822.541921   74082.988072 -7.285737e+06   \n",
      "orientation               11832.0      0.041641       0.975551 -1.570785e+00   \n",
      "perimeter                 11832.0   1300.182716    2766.424590  3.055635e+01   \n",
      "solidity                  11832.0      0.582792       0.173314  1.772474e-02   \n",
      "\n",
      "                                   25%           50%           75%  \\\n",
      "img_no                    2.957750e+03  5.915500e+03  8.873250e+03   \n",
      "area                      1.230000e+02  3.445000e+02  3.165250e+03   \n",
      "bbox-0                    2.900000e+01  1.090000e+02  2.480000e+02   \n",
      "bbox-1                    2.500000e+01  1.280000e+02  2.850000e+02   \n",
      "bbox-2                    1.380000e+02  2.000000e+02  3.860000e+02   \n",
      "bbox-3                    1.510000e+02  2.510000e+02  4.672500e+02   \n",
      "bbox_area                 3.080000e+02  1.008000e+03  9.800750e+03   \n",
      "centroid-0                9.875549e+01  1.696852e+02  2.967384e+02   \n",
      "centroid-1                1.066573e+02  2.003457e+02  3.616015e+02   \n",
      "convex_area               2.020000e+02  6.320000e+02  6.739750e+03   \n",
      "eccentricity              7.782676e-01  8.881413e-01  9.595618e-01   \n",
      "equivalent_diameter       1.251433e+01  2.094351e+01  6.348317e+01   \n",
      "euler_number             -1.600000e+01 -1.000000e+00  1.000000e+00   \n",
      "extent                    3.221780e-01  4.087115e-01  4.974726e-01   \n",
      "filled_area               1.240000e+02  3.520000e+02  3.260750e+03   \n",
      "inertia_tensor_eigvals-0  3.935811e+01  1.837914e+02  2.009728e+03   \n",
      "inertia_tensor_eigvals-1  5.455994e+00  1.602964e+01  2.010142e+02   \n",
      "local_centroid-0          8.252976e+00  1.639339e+01  5.880962e+01   \n",
      "local_centroid-1          7.882353e+00  1.670050e+01  6.383657e+01   \n",
      "major_axis_length         2.509442e+01  5.422788e+01  1.793200e+02   \n",
      "minor_axis_length         9.343228e+00  1.601481e+01  5.671180e+01   \n",
      "moments_hu-0              2.631569e-01  3.447490e-01  5.545822e-01   \n",
      "moments_hu-1              1.413551e-02  4.751850e-02  2.006659e-01   \n",
      "moments_hu-2              1.361789e-03  5.322190e-03  2.593163e-02   \n",
      "moments_hu-3              2.232728e-04  1.362267e-03  1.043415e-02   \n",
      "moments_hu-4              9.260000e-11  8.915000e-07  7.552500e-05   \n",
      "moments_hu-5             -7.100000e-08  6.780000e-05  1.892503e-03   \n",
      "moments_hu-6             -8.892500e-07  0.000000e+00  9.880000e-07   \n",
      "orientation              -7.509348e-01  2.774628e-02  9.155654e-01   \n",
      "perimeter                 7.676955e+01  1.762071e+02  8.114237e+02   \n",
      "solidity                  4.929634e-01  5.985074e-01  6.970971e-01   \n",
      "\n",
      "                                   max  \n",
      "img_no                    1.183100e+04  \n",
      "area                      2.237670e+05  \n",
      "bbox-0                    5.120000e+02  \n",
      "bbox-1                    6.590000e+02  \n",
      "bbox-2                    5.140000e+02  \n",
      "bbox-3                    6.600000e+02  \n",
      "bbox_area                 3.392400e+05  \n",
      "centroid-0                5.129529e+02  \n",
      "centroid-1                6.590000e+02  \n",
      "convex_area               3.293900e+05  \n",
      "eccentricity              1.000000e+00  \n",
      "equivalent_diameter       5.337687e+02  \n",
      "euler_number              1.000000e+00  \n",
      "extent                    1.000000e+00  \n",
      "filled_area               3.232260e+05  \n",
      "inertia_tensor_eigvals-0  7.966679e+04  \n",
      "inertia_tensor_eigvals-1  2.514296e+04  \n",
      "local_centroid-0          4.068961e+02  \n",
      "local_centroid-1          5.572730e+02  \n",
      "major_axis_length         1.129012e+03  \n",
      "minor_axis_length         6.342613e+02  \n",
      "moments_hu-0              3.691648e+01  \n",
      "moments_hu-1              1.362826e+03  \n",
      "moments_hu-2              8.975146e+03  \n",
      "moments_hu-3              7.164918e+03  \n",
      "moments_hu-4              5.740079e+07  \n",
      "moments_hu-5              1.946414e+05  \n",
      "moments_hu-6              6.355684e+05  \n",
      "orientation               1.570796e+00  \n",
      "perimeter                 2.090036e+04  \n",
      "solidity                  1.000000e+00  \n"
     ]
    }
   ],
   "source": [
    "print(df.describe().T)"
   ]
  },
  {
   "cell_type": "code",
   "execution_count": 4,
   "metadata": {
    "scrolled": true
   },
   "outputs": [
    {
     "name": "stdout",
     "output_type": "stream",
     "text": [
      "img_no                      0\n",
      "area                        0\n",
      "bbox-0                      0\n",
      "bbox-1                      0\n",
      "bbox-2                      0\n",
      "bbox-3                      0\n",
      "bbox_area                   0\n",
      "centroid-0                  0\n",
      "centroid-1                  0\n",
      "convex_area                 0\n",
      "eccentricity                0\n",
      "equivalent_diameter         0\n",
      "euler_number                0\n",
      "extent                      0\n",
      "filled_area                 0\n",
      "inertia_tensor_eigvals-0    0\n",
      "inertia_tensor_eigvals-1    0\n",
      "local_centroid-0            0\n",
      "local_centroid-1            0\n",
      "major_axis_length           0\n",
      "minor_axis_length           0\n",
      "moments_hu-0                0\n",
      "moments_hu-1                0\n",
      "moments_hu-2                0\n",
      "moments_hu-3                0\n",
      "moments_hu-4                0\n",
      "moments_hu-5                0\n",
      "moments_hu-6                0\n",
      "orientation                 0\n",
      "perimeter                   0\n",
      "slice                       0\n",
      "solidity                    0\n",
      "label                       0\n",
      "dtype: int64\n"
     ]
    }
   ],
   "source": [
    "print(df.isnull().sum())"
   ]
  },
  {
   "cell_type": "code",
   "execution_count": 5,
   "metadata": {
    "scrolled": true
   },
   "outputs": [
    {
     "name": "stdout",
     "output_type": "stream",
     "text": [
      "img_no                        int64\n",
      "area                          int64\n",
      "bbox-0                        int64\n",
      "bbox-1                        int64\n",
      "bbox-2                        int64\n",
      "bbox-3                        int64\n",
      "bbox_area                     int64\n",
      "centroid-0                  float64\n",
      "centroid-1                  float64\n",
      "convex_area                   int64\n",
      "eccentricity                float64\n",
      "equivalent_diameter         float64\n",
      "euler_number                  int64\n",
      "extent                      float64\n",
      "filled_area                   int64\n",
      "inertia_tensor_eigvals-0    float64\n",
      "inertia_tensor_eigvals-1    float64\n",
      "local_centroid-0            float64\n",
      "local_centroid-1            float64\n",
      "major_axis_length           float64\n",
      "minor_axis_length           float64\n",
      "moments_hu-0                float64\n",
      "moments_hu-1                float64\n",
      "moments_hu-2                float64\n",
      "moments_hu-3                float64\n",
      "moments_hu-4                float64\n",
      "moments_hu-5                float64\n",
      "moments_hu-6                float64\n",
      "orientation                 float64\n",
      "perimeter                   float64\n",
      "slice                        object\n",
      "solidity                    float64\n",
      "label                        object\n",
      "dtype: object\n"
     ]
    }
   ],
   "source": [
    "print(df.dtypes)"
   ]
  },
  {
   "cell_type": "code",
   "execution_count": 6,
   "metadata": {},
   "outputs": [
    {
     "data": {
      "text/plain": [
       "<matplotlib.axes._subplots.AxesSubplot at 0x7f67cc144550>"
      ]
     },
     "execution_count": 6,
     "metadata": {},
     "output_type": "execute_result"
    },
    {
     "data": {
      "image/png": "[encoded data removed]",
      "text/plain": [
       "<Figure size 432x288 with 1 Axes>"
      ]
     },
     "metadata": {
      "needs_background": "light"
     },
     "output_type": "display_data"
    }
   ],
   "source": [
    "sns.countplot(x='label', data=df)"
   ]
  },
  {
   "cell_type": "code",
   "execution_count": 7,
   "metadata": {},
   "outputs": [
    {
     "name": "stdout",
     "output_type": "stream",
     "text": [
      "cavity                5892\n",
      "missing_tooth         2123\n",
      "root_canal_treated    1729\n",
      "restoration           1298\n",
      "crown                  790\n",
      "Name: label, dtype: int64\n"
     ]
    }
   ],
   "source": [
    "print(df['label'].value_counts())"
   ]
  },
  {
   "cell_type": "code",
   "execution_count": 8,
   "metadata": {},
   "outputs": [
    {
     "name": "stdout",
     "output_type": "stream",
     "text": [
      "['cavity' 'crown' 'missing_tooth' 'restoration' 'root_canal_treated']\n"
     ]
    }
   ],
   "source": [
    "y = df['label'].values\n",
    "print(np.unique(y))"
   ]
  },
  {
   "cell_type": "code",
   "execution_count": 9,
   "metadata": {},
   "outputs": [
    {
     "name": "stdout",
     "output_type": "stream",
     "text": [
      "[0 1 2 3 4]\n"
     ]
    }
   ],
   "source": [
    "from sklearn.preprocessing import LabelEncoder\n",
    "labelencoder = LabelEncoder()\n",
    "Y = labelencoder.fit_transform(y)\n",
    "print(np.unique(Y))"
   ]
  },
  {
   "cell_type": "code",
   "execution_count": 10,
   "metadata": {
    "scrolled": true
   },
   "outputs": [
    {
     "name": "stdout",
     "output_type": "stream",
     "text": [
      "                            count          mean            std           min  \\\n",
      "area                      11832.0  12107.747295   33344.483685  7.100000e+01   \n",
      "bbox-0                    11832.0    152.872972     145.501337  0.000000e+00   \n",
      "bbox-1                    11832.0    180.229462     178.493655  0.000000e+00   \n",
      "bbox-2                    11832.0    252.858857     150.493227  1.000000e+00   \n",
      "bbox-3                    11832.0    299.469912     195.293846  1.000000e+00   \n",
      "bbox_area                 11832.0  33020.895791   84308.766262  7.200000e+01   \n",
      "centroid-0                11832.0    202.416966     133.737039  0.000000e+00   \n",
      "centroid-1                11832.0    239.987850     168.447276  0.000000e+00   \n",
      "convex_area               11832.0  26765.656271   71348.842186  7.200000e+01   \n",
      "eccentricity              11832.0      0.848338       0.142836  1.245593e-01   \n",
      "equivalent_diameter       11832.0     67.475814     104.230492  9.507892e+00   \n",
      "euler_number              11832.0    -35.660074      90.674278 -8.670000e+02   \n",
      "extent                    11832.0      0.408751       0.155130  8.768589e-03   \n",
      "filled_area               11832.0  13428.484280   38053.752960  7.100000e+01   \n",
      "inertia_tensor_eigvals-0  11832.0   3634.116443    8516.382353  6.900291e+00   \n",
      "inertia_tensor_eigvals-1  11832.0   1190.727461    3415.935189  0.000000e+00   \n",
      "local_centroid-0          11832.0     49.543994      72.345343  0.000000e+00   \n",
      "local_centroid-1          11832.0     59.758388      94.579148  0.000000e+00   \n",
      "major_axis_length         11832.0    144.451234     193.087688  1.050736e+01   \n",
      "minor_axis_length         11832.0     68.643102     119.753814  0.000000e+00   \n",
      "moments_hu-0              11832.0      1.352588       4.008189  1.611749e-01   \n",
      "moments_hu-1              11832.0     17.463512     116.179618  1.840000e-06   \n",
      "moments_hu-2              11832.0     11.392966     186.195686  0.000000e+00   \n",
      "moments_hu-3              11832.0      7.813431     147.998898  0.000000e+00   \n",
      "moments_hu-4              11832.0  23264.648466  913588.407444 -4.499149e+04   \n",
      "moments_hu-5              11832.0    140.627526    3360.297002 -2.063033e+03   \n",
      "moments_hu-6              11832.0   -822.541921   74082.988072 -7.285737e+06   \n",
      "orientation               11832.0      0.041641       0.975551 -1.570785e+00   \n",
      "perimeter                 11832.0   1300.182716    2766.424590  3.055635e+01   \n",
      "solidity                  11832.0      0.582792       0.173314  1.772474e-02   \n",
      "\n",
      "                                   25%           50%           75%  \\\n",
      "area                      1.230000e+02  3.445000e+02  3.165250e+03   \n",
      "bbox-0                    2.900000e+01  1.090000e+02  2.480000e+02   \n",
      "bbox-1                    2.500000e+01  1.280000e+02  2.850000e+02   \n",
      "bbox-2                    1.380000e+02  2.000000e+02  3.860000e+02   \n",
      "bbox-3                    1.510000e+02  2.510000e+02  4.672500e+02   \n",
      "bbox_area                 3.080000e+02  1.008000e+03  9.800750e+03   \n",
      "centroid-0                9.875549e+01  1.696852e+02  2.967384e+02   \n",
      "centroid-1                1.066573e+02  2.003457e+02  3.616015e+02   \n",
      "convex_area               2.020000e+02  6.320000e+02  6.739750e+03   \n",
      "eccentricity              7.782676e-01  8.881413e-01  9.595618e-01   \n",
      "equivalent_diameter       1.251433e+01  2.094351e+01  6.348317e+01   \n",
      "euler_number             -1.600000e+01 -1.000000e+00  1.000000e+00   \n",
      "extent                    3.221780e-01  4.087115e-01  4.974726e-01   \n",
      "filled_area               1.240000e+02  3.520000e+02  3.260750e+03   \n",
      "inertia_tensor_eigvals-0  3.935811e+01  1.837914e+02  2.009728e+03   \n",
      "inertia_tensor_eigvals-1  5.455994e+00  1.602964e+01  2.010142e+02   \n",
      "local_centroid-0          8.252976e+00  1.639339e+01  5.880962e+01   \n",
      "local_centroid-1          7.882353e+00  1.670050e+01  6.383657e+01   \n",
      "major_axis_length         2.509442e+01  5.422788e+01  1.793200e+02   \n",
      "minor_axis_length         9.343228e+00  1.601481e+01  5.671180e+01   \n",
      "moments_hu-0              2.631569e-01  3.447490e-01  5.545822e-01   \n",
      "moments_hu-1              1.413551e-02  4.751850e-02  2.006659e-01   \n",
      "moments_hu-2              1.361789e-03  5.322190e-03  2.593163e-02   \n",
      "moments_hu-3              2.232728e-04  1.362267e-03  1.043415e-02   \n",
      "moments_hu-4              9.260000e-11  8.915000e-07  7.552500e-05   \n",
      "moments_hu-5             -7.100000e-08  6.780000e-05  1.892503e-03   \n",
      "moments_hu-6             -8.892500e-07  0.000000e+00  9.880000e-07   \n",
      "orientation              -7.509348e-01  2.774628e-02  9.155654e-01   \n",
      "perimeter                 7.676955e+01  1.762071e+02  8.114237e+02   \n",
      "solidity                  4.929634e-01  5.985074e-01  6.970971e-01   \n",
      "\n",
      "                                   max  \n",
      "area                      2.237670e+05  \n",
      "bbox-0                    5.120000e+02  \n",
      "bbox-1                    6.590000e+02  \n",
      "bbox-2                    5.140000e+02  \n",
      "bbox-3                    6.600000e+02  \n",
      "bbox_area                 3.392400e+05  \n",
      "centroid-0                5.129529e+02  \n",
      "centroid-1                6.590000e+02  \n",
      "convex_area               3.293900e+05  \n",
      "eccentricity              1.000000e+00  \n",
      "equivalent_diameter       5.337687e+02  \n",
      "euler_number              1.000000e+00  \n",
      "extent                    1.000000e+00  \n",
      "filled_area               3.232260e+05  \n",
      "inertia_tensor_eigvals-0  7.966679e+04  \n",
      "inertia_tensor_eigvals-1  2.514296e+04  \n",
      "local_centroid-0          4.068961e+02  \n",
      "local_centroid-1          5.572730e+02  \n",
      "major_axis_length         1.129012e+03  \n",
      "minor_axis_length         6.342613e+02  \n",
      "moments_hu-0              3.691648e+01  \n",
      "moments_hu-1              1.362826e+03  \n",
      "moments_hu-2              8.975146e+03  \n",
      "moments_hu-3              7.164918e+03  \n",
      "moments_hu-4              5.740079e+07  \n",
      "moments_hu-5              1.946414e+05  \n",
      "moments_hu-6              6.355684e+05  \n",
      "orientation               1.570796e+00  \n",
      "perimeter                 2.090036e+04  \n",
      "solidity                  1.000000e+00  \n"
     ]
    }
   ],
   "source": [
    "X = df.drop(labels = ['label', 'img_no', 'slice'], axis=1)\n",
    "print(X.describe().T)"
   ]
  },
  {
   "cell_type": "code",
   "execution_count": 11,
   "metadata": {},
   "outputs": [
    {
     "name": "stdout",
     "output_type": "stream",
     "text": [
      "[[1.69426364e-03 0.00000000e+00 1.63884674e-01 ... 1.92256692e-05\n",
      "  2.00022816e-02 6.35479047e-01]\n",
      " [5.94556899e-04 6.05468750e-01 8.16388467e-01 ... 8.02609935e-01\n",
      "  3.14801673e-03 6.37100830e-01]\n",
      " [1.40279665e-02 7.83203125e-01 0.00000000e+00 ... 9.66262079e-01\n",
      "  4.96477730e-02 1.39480139e-01]\n",
      " ...\n",
      " [4.39659180e-02 1.58203125e-01 3.96054628e-01 ... 9.48401772e-01\n",
      "  8.87223330e-02 5.98231981e-01]\n",
      " [1.60485659e-03 0.00000000e+00 1.63884674e-01 ... 1.00000000e+00\n",
      "  1.90439592e-02 1.00000000e+00]\n",
      " [1.75416637e-02 8.59375000e-02 0.00000000e+00 ... 3.89930230e-01\n",
      "  3.40707511e-02 6.17437937e-01]]\n"
     ]
    }
   ],
   "source": [
    "from sklearn.preprocessing import MinMaxScaler\n",
    "scalar = MinMaxScaler()\n",
    "scalar.fit(X)\n",
    "X = scalar.transform(X)\n",
    "print(X)"
   ]
  },
  {
   "cell_type": "code",
   "execution_count": 41,
   "metadata": {},
   "outputs": [
    {
     "name": "stdout",
     "output_type": "stream",
     "text": [
      "(8282, 30)\n",
      "(3550, 30)\n",
      "(8282,)\n",
      "(3550,)\n"
     ]
    }
   ],
   "source": [
    "from sklearn.model_selection import train_test_split\n",
    "x_train, x_test, y_train, y_test = train_test_split(X, Y, test_size=0.30, random_state=42)\n",
    "print(x_train.shape)\n",
    "print(x_test.shape)\n",
    "print(y_train.shape)\n",
    "print(y_test.shape)"
   ]
  },
  {
   "cell_type": "code",
   "execution_count": 42,
   "metadata": {},
   "outputs": [],
   "source": [
    "from keras.models import Sequential\n",
    "from keras.layers import Dense, Activation, Dropout"
   ]
  },
  {
   "cell_type": "code",
   "execution_count": 46,
   "metadata": {},
   "outputs": [
    {
     "name": "stdout",
     "output_type": "stream",
     "text": [
      "Model: \"sequential_11\"\n",
      "_________________________________________________________________\n",
      "Layer (type)                 Output Shape              Param #   \n",
      "=================================================================\n",
      "dense_37 (Dense)             (None, 128)               3968      \n",
      "_________________________________________________________________\n",
      "dense_38 (Dense)             (None, 64)                8256      \n",
      "_________________________________________________________________\n",
      "dense_39 (Dense)             (None, 32)                2080      \n",
      "_________________________________________________________________\n",
      "dense_40 (Dense)             (None, 16)                528       \n",
      "_________________________________________________________________\n",
      "activation_9 (Activation)    (None, 16)                0         \n",
      "=================================================================\n",
      "Total params: 14,832\n",
      "Trainable params: 14,832\n",
      "Non-trainable params: 0\n",
      "_________________________________________________________________\n",
      "None\n"
     ]
    }
   ],
   "source": [
    "model = Sequential()\n",
    "model.add(Dense(128, input_dim=30, activation='relu'))\n",
    "#model.add(Dropout(0.2))\n",
    "model.add(Dense(64, activation='relu'))\n",
    "#model.add(Dropout(0.2))\n",
    "model.add(Dense(32, activation='relu'))\n",
    "#model.add(Dropout(0.2))\n",
    "model.add(Dense(16))\n",
    "model.add(Activation('sigmoid'))\n",
    "model.compile(loss='sparse_categorical_crossentropy',\n",
    "             optimizer='adam',\n",
    "             metrics=['accuracy'])\n",
    "\n",
    "print(model.summary())"
   ]
  },
  {
   "cell_type": "code",
   "execution_count": 47,
   "metadata": {
    "scrolled": true
   },
   "outputs": [
    {
     "name": "stdout",
     "output_type": "stream",
     "text": [
      "Epoch 1/150\n",
      "65/65 [==============================] - 1s 6ms/step - loss: 2.7268 - accuracy: 0.1705 - val_loss: 2.4638 - val_accuracy: 0.4915\n",
      "Epoch 2/150\n",
      "65/65 [==============================] - 0s 3ms/step - loss: 2.3403 - accuracy: 0.4981 - val_loss: 1.9126 - val_accuracy: 0.4921\n",
      "Epoch 3/150\n",
      "65/65 [==============================] - 0s 3ms/step - loss: 1.7935 - accuracy: 0.5098 - val_loss: 1.6223 - val_accuracy: 0.4921\n",
      "Epoch 4/150\n",
      "65/65 [==============================] - 0s 3ms/step - loss: 1.5766 - accuracy: 0.4972 - val_loss: 1.4729 - val_accuracy: 0.4921\n",
      "Epoch 5/150\n",
      "65/65 [==============================] - 0s 3ms/step - loss: 1.4489 - accuracy: 0.4958 - val_loss: 1.4165 - val_accuracy: 0.4921\n",
      "Epoch 6/150\n",
      "65/65 [==============================] - 0s 3ms/step - loss: 1.3895 - accuracy: 0.5042 - val_loss: 1.3941 - val_accuracy: 0.4921\n",
      "Epoch 7/150\n",
      "65/65 [==============================] - 0s 3ms/step - loss: 1.3864 - accuracy: 0.4986 - val_loss: 1.3866 - val_accuracy: 0.4921\n",
      "Epoch 8/150\n",
      "65/65 [==============================] - 0s 4ms/step - loss: 1.3611 - accuracy: 0.5083 - val_loss: 1.3790 - val_accuracy: 0.4921\n",
      "Epoch 9/150\n",
      "65/65 [==============================] - 0s 3ms/step - loss: 1.3748 - accuracy: 0.4945 - val_loss: 1.3756 - val_accuracy: 0.4921\n",
      "Epoch 10/150\n",
      "65/65 [==============================] - 0s 3ms/step - loss: 1.3805 - accuracy: 0.4916 - val_loss: 1.3754 - val_accuracy: 0.4921\n",
      "Epoch 11/150\n",
      "65/65 [==============================] - 0s 3ms/step - loss: 1.3678 - accuracy: 0.4983 - val_loss: 1.3734 - val_accuracy: 0.4921\n",
      "Epoch 12/150\n",
      "65/65 [==============================] - 0s 3ms/step - loss: 1.3703 - accuracy: 0.4957 - val_loss: 1.3730 - val_accuracy: 0.4921\n",
      "Epoch 13/150\n",
      "65/65 [==============================] - 0s 3ms/step - loss: 1.3547 - accuracy: 0.5066 - val_loss: 1.3707 - val_accuracy: 0.4921\n",
      "Epoch 14/150\n",
      "65/65 [==============================] - 0s 4ms/step - loss: 1.3595 - accuracy: 0.5010 - val_loss: 1.3702 - val_accuracy: 0.4921\n",
      "Epoch 15/150\n",
      "65/65 [==============================] - 0s 4ms/step - loss: 1.3623 - accuracy: 0.5007 - val_loss: 1.3718 - val_accuracy: 0.4921\n",
      "Epoch 16/150\n",
      "65/65 [==============================] - 0s 3ms/step - loss: 1.3666 - accuracy: 0.4949 - val_loss: 1.3700 - val_accuracy: 0.4921\n",
      "Epoch 17/150\n",
      "65/65 [==============================] - 0s 3ms/step - loss: 1.3660 - accuracy: 0.4918 - val_loss: 1.3704 - val_accuracy: 0.4921\n",
      "Epoch 18/150\n",
      "65/65 [==============================] - 0s 3ms/step - loss: 1.3530 - accuracy: 0.5078 - val_loss: 1.3709 - val_accuracy: 0.4921\n",
      "Epoch 19/150\n",
      "65/65 [==============================] - 0s 3ms/step - loss: 1.3623 - accuracy: 0.4973 - val_loss: 1.3716 - val_accuracy: 0.4921\n",
      "Epoch 20/150\n",
      "65/65 [==============================] - 0s 3ms/step - loss: 1.3496 - accuracy: 0.5074 - val_loss: 1.3710 - val_accuracy: 0.4921\n",
      "Epoch 21/150\n",
      "65/65 [==============================] - 0s 3ms/step - loss: 1.3510 - accuracy: 0.5031 - val_loss: 1.3692 - val_accuracy: 0.4921\n",
      "Epoch 22/150\n",
      "65/65 [==============================] - 0s 3ms/step - loss: 1.3605 - accuracy: 0.4983 - val_loss: 1.3691 - val_accuracy: 0.4921\n",
      "Epoch 23/150\n",
      "65/65 [==============================] - 0s 3ms/step - loss: 1.3782 - accuracy: 0.4874 - val_loss: 1.3685 - val_accuracy: 0.4921\n",
      "Epoch 24/150\n",
      "65/65 [==============================] - 0s 4ms/step - loss: 1.3557 - accuracy: 0.5021 - val_loss: 1.3694 - val_accuracy: 0.4921\n",
      "Epoch 25/150\n",
      "65/65 [==============================] - 0s 6ms/step - loss: 1.3537 - accuracy: 0.5015 - val_loss: 1.3692 - val_accuracy: 0.4921\n",
      "Epoch 26/150\n",
      "65/65 [==============================] - 0s 4ms/step - loss: 1.3733 - accuracy: 0.4884 - val_loss: 1.3712 - val_accuracy: 0.4921\n",
      "Epoch 27/150\n",
      "65/65 [==============================] - 0s 4ms/step - loss: 1.3595 - accuracy: 0.5021 - val_loss: 1.3691 - val_accuracy: 0.4921\n",
      "Epoch 28/150\n",
      "65/65 [==============================] - 0s 4ms/step - loss: 1.3654 - accuracy: 0.4954 - val_loss: 1.3677 - val_accuracy: 0.4921\n",
      "Epoch 29/150\n",
      "65/65 [==============================] - 0s 4ms/step - loss: 1.3538 - accuracy: 0.5066 - val_loss: 1.3693 - val_accuracy: 0.4921\n",
      "Epoch 30/150\n",
      "65/65 [==============================] - 0s 4ms/step - loss: 1.3539 - accuracy: 0.5024 - val_loss: 1.3684 - val_accuracy: 0.4921\n",
      "Epoch 31/150\n",
      "65/65 [==============================] - 0s 3ms/step - loss: 1.3541 - accuracy: 0.5021 - val_loss: 1.3673 - val_accuracy: 0.4921\n",
      "Epoch 32/150\n",
      "65/65 [==============================] - 0s 3ms/step - loss: 1.3662 - accuracy: 0.4931 - val_loss: 1.3684 - val_accuracy: 0.4921\n",
      "Epoch 33/150\n",
      "65/65 [==============================] - 0s 3ms/step - loss: 1.3593 - accuracy: 0.4999 - val_loss: 1.3672 - val_accuracy: 0.4921\n",
      "Epoch 34/150\n",
      "65/65 [==============================] - 0s 3ms/step - loss: 1.3480 - accuracy: 0.5079 - val_loss: 1.3684 - val_accuracy: 0.4921\n",
      "Epoch 35/150\n",
      "65/65 [==============================] - 0s 3ms/step - loss: 1.3537 - accuracy: 0.5033 - val_loss: 1.3693 - val_accuracy: 0.4921\n",
      "Epoch 36/150\n",
      "65/65 [==============================] - 0s 3ms/step - loss: 1.3480 - accuracy: 0.5092 - val_loss: 1.3687 - val_accuracy: 0.4921\n",
      "Epoch 37/150\n",
      "65/65 [==============================] - 0s 4ms/step - loss: 1.3503 - accuracy: 0.5073 - val_loss: 1.3702 - val_accuracy: 0.4921\n",
      "Epoch 38/150\n",
      "65/65 [==============================] - 0s 4ms/step - loss: 1.3712 - accuracy: 0.4922 - val_loss: 1.3723 - val_accuracy: 0.4921\n",
      "Epoch 39/150\n",
      "65/65 [==============================] - 0s 3ms/step - loss: 1.3692 - accuracy: 0.4916 - val_loss: 1.3673 - val_accuracy: 0.4921\n",
      "Epoch 40/150\n",
      "65/65 [==============================] - 0s 3ms/step - loss: 1.3441 - accuracy: 0.5097 - val_loss: 1.3684 - val_accuracy: 0.4921\n",
      "Epoch 41/150\n",
      "65/65 [==============================] - 0s 3ms/step - loss: 1.3618 - accuracy: 0.4965 - val_loss: 1.3690 - val_accuracy: 0.4921\n",
      "Epoch 42/150\n",
      "65/65 [==============================] - 0s 3ms/step - loss: 1.3523 - accuracy: 0.5048 - val_loss: 1.3699 - val_accuracy: 0.4921\n",
      "Epoch 43/150\n",
      "65/65 [==============================] - 0s 3ms/step - loss: 1.3479 - accuracy: 0.5075 - val_loss: 1.3685 - val_accuracy: 0.4921\n",
      "Epoch 44/150\n",
      "65/65 [==============================] - 0s 3ms/step - loss: 1.3614 - accuracy: 0.4979 - val_loss: 1.3682 - val_accuracy: 0.4921\n",
      "Epoch 45/150\n",
      "65/65 [==============================] - 0s 3ms/step - loss: 1.3523 - accuracy: 0.5043 - val_loss: 1.3736 - val_accuracy: 0.4921\n",
      "Epoch 46/150\n",
      "65/65 [==============================] - 0s 3ms/step - loss: 1.3460 - accuracy: 0.5097 - val_loss: 1.3669 - val_accuracy: 0.4921\n",
      "Epoch 47/150\n",
      "65/65 [==============================] - 0s 3ms/step - loss: 1.3644 - accuracy: 0.4910 - val_loss: 1.3694 - val_accuracy: 0.4921\n",
      "Epoch 48/150\n",
      "65/65 [==============================] - 0s 3ms/step - loss: 1.3429 - accuracy: 0.5137 - val_loss: 1.3677 - val_accuracy: 0.4921\n",
      "Epoch 49/150\n",
      "65/65 [==============================] - 0s 3ms/step - loss: 1.3641 - accuracy: 0.4980 - val_loss: 1.3674 - val_accuracy: 0.4921\n",
      "Epoch 50/150\n",
      "65/65 [==============================] - 0s 3ms/step - loss: 1.3553 - accuracy: 0.4995 - val_loss: 1.3709 - val_accuracy: 0.4921\n",
      "Epoch 51/150\n",
      "65/65 [==============================] - 0s 3ms/step - loss: 1.3725 - accuracy: 0.4913 - val_loss: 1.3689 - val_accuracy: 0.4921\n",
      "Epoch 52/150\n",
      "65/65 [==============================] - 0s 3ms/step - loss: 1.3626 - accuracy: 0.4997 - val_loss: 1.3681 - val_accuracy: 0.4921\n",
      "Epoch 53/150\n",
      "65/65 [==============================] - 0s 4ms/step - loss: 1.3614 - accuracy: 0.5012 - val_loss: 1.3676 - val_accuracy: 0.4921\n",
      "Epoch 54/150\n",
      "65/65 [==============================] - 0s 4ms/step - loss: 1.3607 - accuracy: 0.4989 - val_loss: 1.3679 - val_accuracy: 0.4921\n",
      "Epoch 55/150\n",
      "65/65 [==============================] - 0s 4ms/step - loss: 1.3640 - accuracy: 0.4971 - val_loss: 1.3687 - val_accuracy: 0.4921\n",
      "Epoch 56/150\n",
      "65/65 [==============================] - 0s 5ms/step - loss: 1.3542 - accuracy: 0.5017 - val_loss: 1.3678 - val_accuracy: 0.4921\n",
      "Epoch 57/150\n",
      "65/65 [==============================] - 0s 3ms/step - loss: 1.3621 - accuracy: 0.4999 - val_loss: 1.3678 - val_accuracy: 0.4921\n",
      "Epoch 58/150\n",
      "65/65 [==============================] - 0s 3ms/step - loss: 1.3588 - accuracy: 0.5028 - val_loss: 1.3706 - val_accuracy: 0.4921\n"
     ]
    },
    {
     "name": "stdout",
     "output_type": "stream",
     "text": [
      "Epoch 59/150\n",
      "65/65 [==============================] - 0s 3ms/step - loss: 1.3423 - accuracy: 0.5111 - val_loss: 1.3679 - val_accuracy: 0.4921\n",
      "Epoch 60/150\n",
      "65/65 [==============================] - 0s 3ms/step - loss: 1.3563 - accuracy: 0.5010 - val_loss: 1.3677 - val_accuracy: 0.4921\n",
      "Epoch 61/150\n",
      "65/65 [==============================] - 0s 3ms/step - loss: 1.3579 - accuracy: 0.5014 - val_loss: 1.3683 - val_accuracy: 0.4921\n",
      "Epoch 62/150\n",
      "65/65 [==============================] - 0s 3ms/step - loss: 1.3589 - accuracy: 0.5024 - val_loss: 1.3688 - val_accuracy: 0.4921\n",
      "Epoch 63/150\n",
      "65/65 [==============================] - 0s 3ms/step - loss: 1.3505 - accuracy: 0.5056 - val_loss: 1.3676 - val_accuracy: 0.4921\n",
      "Epoch 64/150\n",
      "65/65 [==============================] - 0s 3ms/step - loss: 1.3588 - accuracy: 0.5026 - val_loss: 1.3694 - val_accuracy: 0.4921\n",
      "Epoch 65/150\n",
      "65/65 [==============================] - 0s 3ms/step - loss: 1.3591 - accuracy: 0.4999 - val_loss: 1.3687 - val_accuracy: 0.4921\n",
      "Epoch 66/150\n",
      "65/65 [==============================] - 0s 4ms/step - loss: 1.3544 - accuracy: 0.5048 - val_loss: 1.3702 - val_accuracy: 0.4921\n",
      "Epoch 67/150\n",
      "65/65 [==============================] - 0s 4ms/step - loss: 1.3699 - accuracy: 0.4924 - val_loss: 1.3668 - val_accuracy: 0.4921\n",
      "Epoch 68/150\n",
      "65/65 [==============================] - 0s 4ms/step - loss: 1.3666 - accuracy: 0.4909 - val_loss: 1.3699 - val_accuracy: 0.4921\n",
      "Epoch 69/150\n",
      "65/65 [==============================] - 0s 4ms/step - loss: 1.3584 - accuracy: 0.5007 - val_loss: 1.3684 - val_accuracy: 0.4921\n",
      "Epoch 70/150\n",
      "65/65 [==============================] - 0s 3ms/step - loss: 1.3560 - accuracy: 0.5030 - val_loss: 1.3711 - val_accuracy: 0.4921\n",
      "Epoch 71/150\n",
      "65/65 [==============================] - 0s 3ms/step - loss: 1.3612 - accuracy: 0.4977 - val_loss: 1.3677 - val_accuracy: 0.4921\n",
      "Epoch 72/150\n",
      "65/65 [==============================] - 0s 3ms/step - loss: 1.3526 - accuracy: 0.5008 - val_loss: 1.3692 - val_accuracy: 0.4921\n",
      "Epoch 73/150\n",
      "65/65 [==============================] - 0s 3ms/step - loss: 1.3518 - accuracy: 0.5013 - val_loss: 1.3685 - val_accuracy: 0.4921\n",
      "Epoch 74/150\n",
      "65/65 [==============================] - 0s 3ms/step - loss: 1.3517 - accuracy: 0.5026 - val_loss: 1.3725 - val_accuracy: 0.4921\n",
      "Epoch 75/150\n",
      "65/65 [==============================] - 0s 3ms/step - loss: 1.3587 - accuracy: 0.5018 - val_loss: 1.3697 - val_accuracy: 0.4921\n",
      "Epoch 76/150\n",
      "65/65 [==============================] - 0s 3ms/step - loss: 1.3480 - accuracy: 0.5046 - val_loss: 1.3711 - val_accuracy: 0.4921\n",
      "Epoch 77/150\n",
      "65/65 [==============================] - 0s 3ms/step - loss: 1.3638 - accuracy: 0.4976 - val_loss: 1.3675 - val_accuracy: 0.4921\n",
      "Epoch 78/150\n",
      "65/65 [==============================] - 0s 3ms/step - loss: 1.3708 - accuracy: 0.4908 - val_loss: 1.3683 - val_accuracy: 0.4921\n",
      "Epoch 79/150\n",
      "65/65 [==============================] - 0s 3ms/step - loss: 1.3658 - accuracy: 0.4964 - val_loss: 1.3708 - val_accuracy: 0.4921\n",
      "Epoch 80/150\n",
      "65/65 [==============================] - 0s 3ms/step - loss: 1.3695 - accuracy: 0.4938 - val_loss: 1.3691 - val_accuracy: 0.4921\n",
      "Epoch 81/150\n",
      "65/65 [==============================] - 0s 3ms/step - loss: 1.3640 - accuracy: 0.4964 - val_loss: 1.3707 - val_accuracy: 0.4921\n",
      "Epoch 82/150\n",
      "65/65 [==============================] - 0s 4ms/step - loss: 1.3611 - accuracy: 0.4979 - val_loss: 1.3674 - val_accuracy: 0.4921\n",
      "Epoch 83/150\n",
      "65/65 [==============================] - 0s 3ms/step - loss: 1.3606 - accuracy: 0.4974 - val_loss: 1.3679 - val_accuracy: 0.4921\n",
      "Epoch 84/150\n",
      "65/65 [==============================] - 0s 3ms/step - loss: 1.3430 - accuracy: 0.5077 - val_loss: 1.3685 - val_accuracy: 0.4921\n",
      "Epoch 85/150\n",
      "65/65 [==============================] - 0s 3ms/step - loss: 1.3671 - accuracy: 0.4927 - val_loss: 1.3697 - val_accuracy: 0.4921\n",
      "Epoch 86/150\n",
      "65/65 [==============================] - 0s 3ms/step - loss: 1.3465 - accuracy: 0.5067 - val_loss: 1.3722 - val_accuracy: 0.4921\n",
      "Epoch 87/150\n",
      "65/65 [==============================] - 0s 3ms/step - loss: 1.3618 - accuracy: 0.4950 - val_loss: 1.3679 - val_accuracy: 0.4921\n",
      "Epoch 88/150\n",
      "65/65 [==============================] - 0s 4ms/step - loss: 1.3548 - accuracy: 0.5028 - val_loss: 1.3716 - val_accuracy: 0.4921\n",
      "Epoch 89/150\n",
      "65/65 [==============================] - 0s 4ms/step - loss: 1.3624 - accuracy: 0.4974 - val_loss: 1.3727 - val_accuracy: 0.4921\n",
      "Epoch 90/150\n",
      "65/65 [==============================] - 0s 3ms/step - loss: 1.3568 - accuracy: 0.5003 - val_loss: 1.3674 - val_accuracy: 0.4921\n",
      "Epoch 91/150\n",
      "65/65 [==============================] - 0s 3ms/step - loss: 1.3554 - accuracy: 0.5016 - val_loss: 1.3671 - val_accuracy: 0.4921\n",
      "Epoch 92/150\n",
      "65/65 [==============================] - 0s 3ms/step - loss: 1.3628 - accuracy: 0.4956 - val_loss: 1.3677 - val_accuracy: 0.4921\n",
      "Epoch 93/150\n",
      "65/65 [==============================] - 0s 5ms/step - loss: 1.3578 - accuracy: 0.4994 - val_loss: 1.3682 - val_accuracy: 0.4921\n",
      "Epoch 94/150\n",
      "65/65 [==============================] - 0s 3ms/step - loss: 1.3682 - accuracy: 0.4915 - val_loss: 1.3670 - val_accuracy: 0.4921\n",
      "Epoch 95/150\n",
      "65/65 [==============================] - 0s 3ms/step - loss: 1.3517 - accuracy: 0.5018 - val_loss: 1.3704 - val_accuracy: 0.4921\n",
      "Epoch 96/150\n",
      "65/65 [==============================] - 0s 3ms/step - loss: 1.3680 - accuracy: 0.4971 - val_loss: 1.3686 - val_accuracy: 0.4921\n",
      "Epoch 97/150\n",
      "65/65 [==============================] - 0s 3ms/step - loss: 1.3527 - accuracy: 0.5029 - val_loss: 1.3681 - val_accuracy: 0.4921\n",
      "Epoch 98/150\n",
      "65/65 [==============================] - 0s 4ms/step - loss: 1.3600 - accuracy: 0.5002 - val_loss: 1.3669 - val_accuracy: 0.4921\n",
      "Epoch 99/150\n",
      "65/65 [==============================] - 0s 4ms/step - loss: 1.3654 - accuracy: 0.4953 - val_loss: 1.3679 - val_accuracy: 0.4921\n",
      "Epoch 100/150\n",
      "65/65 [==============================] - 0s 4ms/step - loss: 1.3535 - accuracy: 0.5049 - val_loss: 1.3684 - val_accuracy: 0.4921\n",
      "Epoch 101/150\n",
      "65/65 [==============================] - 0s 3ms/step - loss: 1.3662 - accuracy: 0.4936 - val_loss: 1.3725 - val_accuracy: 0.4921\n",
      "Epoch 102/150\n",
      "65/65 [==============================] - 0s 3ms/step - loss: 1.3606 - accuracy: 0.4975 - val_loss: 1.3692 - val_accuracy: 0.4921\n",
      "Epoch 103/150\n",
      "65/65 [==============================] - 0s 3ms/step - loss: 1.3533 - accuracy: 0.5031 - val_loss: 1.3679 - val_accuracy: 0.4921\n",
      "Epoch 104/150\n",
      "65/65 [==============================] - 0s 3ms/step - loss: 1.3534 - accuracy: 0.5020 - val_loss: 1.3726 - val_accuracy: 0.4921\n",
      "Epoch 105/150\n",
      "65/65 [==============================] - 0s 3ms/step - loss: 1.3585 - accuracy: 0.5014 - val_loss: 1.3687 - val_accuracy: 0.4921\n",
      "Epoch 106/150\n",
      "65/65 [==============================] - 0s 3ms/step - loss: 1.3456 - accuracy: 0.5078 - val_loss: 1.3675 - val_accuracy: 0.4921\n",
      "Epoch 107/150\n",
      "65/65 [==============================] - 0s 3ms/step - loss: 1.3509 - accuracy: 0.5013 - val_loss: 1.3690 - val_accuracy: 0.4921\n",
      "Epoch 108/150\n",
      "65/65 [==============================] - 0s 3ms/step - loss: 1.3430 - accuracy: 0.5118 - val_loss: 1.3706 - val_accuracy: 0.4921\n",
      "Epoch 109/150\n",
      "65/65 [==============================] - 0s 3ms/step - loss: 1.3505 - accuracy: 0.5046 - val_loss: 1.3676 - val_accuracy: 0.4921\n",
      "Epoch 110/150\n",
      "65/65 [==============================] - 0s 3ms/step - loss: 1.3568 - accuracy: 0.4995 - val_loss: 1.3694 - val_accuracy: 0.4921\n",
      "Epoch 111/150\n",
      "65/65 [==============================] - 0s 3ms/step - loss: 1.3606 - accuracy: 0.4966 - val_loss: 1.3705 - val_accuracy: 0.4921\n",
      "Epoch 112/150\n",
      "65/65 [==============================] - 0s 3ms/step - loss: 1.3540 - accuracy: 0.5011 - val_loss: 1.3672 - val_accuracy: 0.4921\n",
      "Epoch 113/150\n",
      "65/65 [==============================] - 0s 3ms/step - loss: 1.3720 - accuracy: 0.4911 - val_loss: 1.3674 - val_accuracy: 0.4921\n",
      "Epoch 114/150\n",
      "65/65 [==============================] - 0s 3ms/step - loss: 1.3565 - accuracy: 0.5001 - val_loss: 1.3705 - val_accuracy: 0.4921\n",
      "Epoch 115/150\n",
      "65/65 [==============================] - 0s 3ms/step - loss: 1.3574 - accuracy: 0.4998 - val_loss: 1.3692 - val_accuracy: 0.4921\n",
      "Epoch 116/150\n"
     ]
    },
    {
     "name": "stdout",
     "output_type": "stream",
     "text": [
      "65/65 [==============================] - 0s 3ms/step - loss: 1.3541 - accuracy: 0.5022 - val_loss: 1.3677 - val_accuracy: 0.4921\n",
      "Epoch 117/150\n",
      "65/65 [==============================] - 0s 3ms/step - loss: 1.3546 - accuracy: 0.5037 - val_loss: 1.3677 - val_accuracy: 0.4921\n",
      "Epoch 118/150\n",
      "65/65 [==============================] - 0s 3ms/step - loss: 1.3605 - accuracy: 0.4980 - val_loss: 1.3680 - val_accuracy: 0.4921\n",
      "Epoch 119/150\n",
      "65/65 [==============================] - 0s 3ms/step - loss: 1.3564 - accuracy: 0.4977 - val_loss: 1.3699 - val_accuracy: 0.4921\n",
      "Epoch 120/150\n",
      "65/65 [==============================] - 0s 3ms/step - loss: 1.3620 - accuracy: 0.4971 - val_loss: 1.3673 - val_accuracy: 0.4921\n",
      "Epoch 121/150\n",
      "65/65 [==============================] - 0s 3ms/step - loss: 1.3633 - accuracy: 0.4953 - val_loss: 1.3687 - val_accuracy: 0.4921\n",
      "Epoch 122/150\n",
      "65/65 [==============================] - 0s 3ms/step - loss: 1.3584 - accuracy: 0.4994 - val_loss: 1.3676 - val_accuracy: 0.4921\n",
      "Epoch 123/150\n",
      "65/65 [==============================] - 0s 5ms/step - loss: 1.3527 - accuracy: 0.5050 - val_loss: 1.3722 - val_accuracy: 0.4921\n",
      "Epoch 124/150\n",
      "65/65 [==============================] - 0s 3ms/step - loss: 1.3388 - accuracy: 0.5097 - val_loss: 1.3680 - val_accuracy: 0.4921\n",
      "Epoch 125/150\n",
      "65/65 [==============================] - 0s 3ms/step - loss: 1.3538 - accuracy: 0.5028 - val_loss: 1.3683 - val_accuracy: 0.4921\n",
      "Epoch 126/150\n",
      "65/65 [==============================] - 0s 3ms/step - loss: 1.3598 - accuracy: 0.4980 - val_loss: 1.3690 - val_accuracy: 0.4921\n",
      "Epoch 127/150\n",
      "65/65 [==============================] - 0s 3ms/step - loss: 1.3562 - accuracy: 0.4981 - val_loss: 1.3671 - val_accuracy: 0.4921\n",
      "Epoch 128/150\n",
      "65/65 [==============================] - 0s 3ms/step - loss: 1.3476 - accuracy: 0.5074 - val_loss: 1.3687 - val_accuracy: 0.4921\n",
      "Epoch 129/150\n",
      "65/65 [==============================] - 0s 3ms/step - loss: 1.3618 - accuracy: 0.4980 - val_loss: 1.3693 - val_accuracy: 0.4921\n",
      "Epoch 130/150\n",
      "65/65 [==============================] - 0s 3ms/step - loss: 1.3479 - accuracy: 0.5042 - val_loss: 1.3669 - val_accuracy: 0.4921\n",
      "Epoch 131/150\n",
      "65/65 [==============================] - 0s 3ms/step - loss: 1.3611 - accuracy: 0.4957 - val_loss: 1.3691 - val_accuracy: 0.4921\n",
      "Epoch 132/150\n",
      "65/65 [==============================] - 0s 3ms/step - loss: 1.3544 - accuracy: 0.5043 - val_loss: 1.3667 - val_accuracy: 0.4921\n",
      "Epoch 133/150\n",
      "65/65 [==============================] - 0s 3ms/step - loss: 1.3430 - accuracy: 0.5108 - val_loss: 1.3673 - val_accuracy: 0.4921\n",
      "Epoch 134/150\n",
      "65/65 [==============================] - 0s 3ms/step - loss: 1.3597 - accuracy: 0.4991 - val_loss: 1.3681 - val_accuracy: 0.4921\n",
      "Epoch 135/150\n",
      "65/65 [==============================] - 0s 3ms/step - loss: 1.3598 - accuracy: 0.5013 - val_loss: 1.3683 - val_accuracy: 0.4921\n",
      "Epoch 136/150\n",
      "65/65 [==============================] - 0s 3ms/step - loss: 1.3501 - accuracy: 0.5024 - val_loss: 1.3669 - val_accuracy: 0.4921\n",
      "Epoch 137/150\n",
      "65/65 [==============================] - 0s 3ms/step - loss: 1.3643 - accuracy: 0.4937 - val_loss: 1.3697 - val_accuracy: 0.4921\n",
      "Epoch 138/150\n",
      "65/65 [==============================] - 0s 3ms/step - loss: 1.3527 - accuracy: 0.5036 - val_loss: 1.3676 - val_accuracy: 0.4921\n",
      "Epoch 139/150\n",
      "65/65 [==============================] - 0s 3ms/step - loss: 1.3599 - accuracy: 0.4979 - val_loss: 1.3669 - val_accuracy: 0.4921\n",
      "Epoch 140/150\n",
      "65/65 [==============================] - 0s 3ms/step - loss: 1.3560 - accuracy: 0.4992 - val_loss: 1.3671 - val_accuracy: 0.4921\n",
      "Epoch 141/150\n",
      "65/65 [==============================] - 0s 3ms/step - loss: 1.3650 - accuracy: 0.4956 - val_loss: 1.3669 - val_accuracy: 0.4921\n",
      "Epoch 142/150\n",
      "65/65 [==============================] - 0s 3ms/step - loss: 1.3506 - accuracy: 0.5050 - val_loss: 1.3769 - val_accuracy: 0.4921\n",
      "Epoch 143/150\n",
      "65/65 [==============================] - 0s 3ms/step - loss: 1.3472 - accuracy: 0.5033 - val_loss: 1.3679 - val_accuracy: 0.4921\n",
      "Epoch 144/150\n",
      "65/65 [==============================] - 0s 3ms/step - loss: 1.3577 - accuracy: 0.4963 - val_loss: 1.3679 - val_accuracy: 0.4921\n",
      "Epoch 145/150\n",
      "65/65 [==============================] - 0s 3ms/step - loss: 1.3600 - accuracy: 0.4963 - val_loss: 1.3694 - val_accuracy: 0.4921\n",
      "Epoch 146/150\n",
      "65/65 [==============================] - 0s 3ms/step - loss: 1.3425 - accuracy: 0.5114 - val_loss: 1.3674 - val_accuracy: 0.4921\n",
      "Epoch 147/150\n",
      "65/65 [==============================] - 0s 3ms/step - loss: 1.3532 - accuracy: 0.5031 - val_loss: 1.3674 - val_accuracy: 0.4921\n",
      "Epoch 148/150\n",
      "65/65 [==============================] - 0s 3ms/step - loss: 1.3472 - accuracy: 0.5039 - val_loss: 1.3681 - val_accuracy: 0.4921\n",
      "Epoch 149/150\n",
      "65/65 [==============================] - 0s 3ms/step - loss: 1.3522 - accuracy: 0.5029 - val_loss: 1.3686 - val_accuracy: 0.4921\n",
      "Epoch 150/150\n",
      "65/65 [==============================] - 0s 3ms/step - loss: 1.3569 - accuracy: 0.4991 - val_loss: 1.3707 - val_accuracy: 0.4921\n"
     ]
    }
   ],
   "source": [
    "history = model.fit(x_train, y_train, verbose=1, epochs=100, batch_size=128, \n",
    "                   validation_data=(x_test, y_test))"
   ]
  },
  {
   "cell_type": "code",
   "execution_count": 45,
   "metadata": {},
   "outputs": [
    {
     "data": {
      "image/png": "[encoded data removed]",
      "text/plain": [
       "<Figure size 432x288 with 1 Axes>"
      ]
     },
     "metadata": {
      "needs_background": "light"
     },
     "output_type": "display_data"
    },
    {
     "data": {
      "image/png": "[encoded data removed]",
      "text/plain": [
       "<Figure size 432x288 with 1 Axes>"
      ]
     },
     "metadata": {
      "needs_background": "light"
     },
     "output_type": "display_data"
    }
   ],
   "source": [
    "acc = history.history['accuracy']\n",
    "val_acc = history.history['val_accuracy']\n",
    "loss = history.history['loss']\n",
    "val_loss = history.history['val_loss']\n",
    "epochs = range(1, len(acc) + 1)\n",
    "plt.plot(epochs, acc, 'bo', label='Training acc')\n",
    "plt.plot(epochs, val_acc, 'b', label='Validation acc')\n",
    "plt.title('Training and validation accuracy')\n",
    "plt.legend()\n",
    "plt.figure()\n",
    "plt.plot(epochs, loss, 'bo', label='Training loss')\n",
    "plt.plot(epochs, val_loss, 'b', label='Validation loss')\n",
    "plt.title('Training and validation loss')\n",
    "plt.legend()\n",
    "plt.show()"
   ]
  },
  {
   "cell_type": "code",
   "execution_count": null,
   "metadata": {},
   "outputs": [],
   "source": []
  }
 ],
 "metadata": {
  "kernelspec": {
   "display_name": "Python 3",
   "language": "python",
   "name": "python3"
  },
  "language_info": {
   "codemirror_mode": {
    "name": "ipython",
    "version": 3
   },
   "file_extension": ".py",
   "mimetype": "text/x-python",
   "name": "python",
   "nbconvert_exporter": "python",
   "pygments_lexer": "ipython3",
   "version": "3.7.6"
  }
 },
 "nbformat": 4,
 "nbformat_minor": 5
}
