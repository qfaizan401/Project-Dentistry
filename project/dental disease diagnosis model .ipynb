{
 "cells": [
  {
   "cell_type": "code",
   "execution_count": 1,
   "id": "inappropriate-warrior",
   "metadata": {},
   "outputs": [],
   "source": [
    "import pandas as pd\n",
    "from matplotlib import pyplot as plt\n",
    "import seaborn as sns\n",
    "import numpy as np"
   ]
  },
  {
   "cell_type": "code",
   "execution_count": 2,
   "id": "liable-motion",
   "metadata": {},
   "outputs": [],
   "source": [
    "df = pd.read_csv('Final_CSVs/singal_csv/combine_dataset.csv')"
   ]
  },
  {
   "cell_type": "code",
   "execution_count": 3,
   "id": "hundred-british",
   "metadata": {
    "scrolled": true
   },
   "outputs": [
    {
     "name": "stdout",
     "output_type": "stream",
     "text": [
      "                            count          mean            std           min  \\\n",
      "img_no                    11832.0   5915.500000    3415.748527  0.000000e+00   \n",
      "area                      11832.0  12107.747295   33344.483685  7.100000e+01   \n",
      "bbox-0                    11832.0    152.872972     145.501337  0.000000e+00   \n",
      "bbox-1                    11832.0    180.229462     178.493655  0.000000e+00   \n",
      "bbox-2                    11832.0    252.858857     150.493227  1.000000e+00   \n",
      "bbox-3                    11832.0    299.469912     195.293846  1.000000e+00   \n",
      "bbox_area                 11832.0  33020.895791   84308.766262  7.200000e+01   \n",
      "centroid-0                11832.0    202.416966     133.737039  0.000000e+00   \n",
      "centroid-1                11832.0    239.987850     168.447276  0.000000e+00   \n",
      "convex_area               11832.0  26765.656271   71348.842186  7.200000e+01   \n",
      "eccentricity              11832.0      0.848338       0.142836  1.245593e-01   \n",
      "equivalent_diameter       11832.0     67.475814     104.230492  9.507892e+00   \n",
      "euler_number              11832.0    -35.660074      90.674278 -8.670000e+02   \n",
      "extent                    11832.0      0.408751       0.155130  8.768589e-03   \n",
      "filled_area               11832.0  13428.484280   38053.752960  7.100000e+01   \n",
      "inertia_tensor_eigvals-0  11832.0   3634.116443    8516.382353  6.900291e+00   \n",
      "inertia_tensor_eigvals-1  11832.0   1190.727461    3415.935189  0.000000e+00   \n",
      "local_centroid-0          11832.0     49.543994      72.345343  0.000000e+00   \n",
      "local_centroid-1          11832.0     59.758388      94.579148  0.000000e+00   \n",
      "major_axis_length         11832.0    144.451234     193.087688  1.050736e+01   \n",
      "minor_axis_length         11832.0     68.643102     119.753814  0.000000e+00   \n",
      "moments_hu-0              11832.0      1.352588       4.008189  1.611749e-01   \n",
      "moments_hu-1              11832.0     17.463512     116.179618  1.840000e-06   \n",
      "moments_hu-2              11832.0     11.392966     186.195686  0.000000e+00   \n",
      "moments_hu-3              11832.0      7.813431     147.998898  0.000000e+00   \n",
      "moments_hu-4              11832.0  23264.648466  913588.407444 -4.499149e+04   \n",
      "moments_hu-5              11832.0    140.627526    3360.297002 -2.063033e+03   \n",
      "moments_hu-6              11832.0   -822.541921   74082.988072 -7.285737e+06   \n",
      "orientation               11832.0      0.041641       0.975551 -1.570785e+00   \n",
      "perimeter                 11832.0   1300.182716    2766.424590  3.055635e+01   \n",
      "solidity                  11832.0      0.582792       0.173314  1.772474e-02   \n",
      "\n",
      "                                   25%           50%           75%  \\\n",
      "img_no                    2.957750e+03  5.915500e+03  8.873250e+03   \n",
      "area                      1.230000e+02  3.445000e+02  3.165250e+03   \n",
      "bbox-0                    2.900000e+01  1.090000e+02  2.480000e+02   \n",
      "bbox-1                    2.500000e+01  1.280000e+02  2.850000e+02   \n",
      "bbox-2                    1.380000e+02  2.000000e+02  3.860000e+02   \n",
      "bbox-3                    1.510000e+02  2.510000e+02  4.672500e+02   \n",
      "bbox_area                 3.080000e+02  1.008000e+03  9.800750e+03   \n",
      "centroid-0                9.875549e+01  1.696852e+02  2.967384e+02   \n",
      "centroid-1                1.066573e+02  2.003457e+02  3.616015e+02   \n",
      "convex_area               2.020000e+02  6.320000e+02  6.739750e+03   \n",
      "eccentricity              7.782676e-01  8.881413e-01  9.595618e-01   \n",
      "equivalent_diameter       1.251433e+01  2.094351e+01  6.348317e+01   \n",
      "euler_number             -1.600000e+01 -1.000000e+00  1.000000e+00   \n",
      "extent                    3.221780e-01  4.087115e-01  4.974726e-01   \n",
      "filled_area               1.240000e+02  3.520000e+02  3.260750e+03   \n",
      "inertia_tensor_eigvals-0  3.935811e+01  1.837914e+02  2.009728e+03   \n",
      "inertia_tensor_eigvals-1  5.455994e+00  1.602964e+01  2.010142e+02   \n",
      "local_centroid-0          8.252976e+00  1.639339e+01  5.880962e+01   \n",
      "local_centroid-1          7.882353e+00  1.670050e+01  6.383657e+01   \n",
      "major_axis_length         2.509442e+01  5.422788e+01  1.793200e+02   \n",
      "minor_axis_length         9.343228e+00  1.601481e+01  5.671180e+01   \n",
      "moments_hu-0              2.631569e-01  3.447490e-01  5.545822e-01   \n",
      "moments_hu-1              1.413551e-02  4.751850e-02  2.006659e-01   \n",
      "moments_hu-2              1.361789e-03  5.322190e-03  2.593163e-02   \n",
      "moments_hu-3              2.232728e-04  1.362267e-03  1.043415e-02   \n",
      "moments_hu-4              9.260000e-11  8.915000e-07  7.552500e-05   \n",
      "moments_hu-5             -7.100000e-08  6.780000e-05  1.892503e-03   \n",
      "moments_hu-6             -8.892500e-07  0.000000e+00  9.880000e-07   \n",
      "orientation              -7.509348e-01  2.774628e-02  9.155654e-01   \n",
      "perimeter                 7.676955e+01  1.762071e+02  8.114237e+02   \n",
      "solidity                  4.929634e-01  5.985074e-01  6.970971e-01   \n",
      "\n",
      "                                   max  \n",
      "img_no                    1.183100e+04  \n",
      "area                      2.237670e+05  \n",
      "bbox-0                    5.120000e+02  \n",
      "bbox-1                    6.590000e+02  \n",
      "bbox-2                    5.140000e+02  \n",
      "bbox-3                    6.600000e+02  \n",
      "bbox_area                 3.392400e+05  \n",
      "centroid-0                5.129529e+02  \n",
      "centroid-1                6.590000e+02  \n",
      "convex_area               3.293900e+05  \n",
      "eccentricity              1.000000e+00  \n",
      "equivalent_diameter       5.337687e+02  \n",
      "euler_number              1.000000e+00  \n",
      "extent                    1.000000e+00  \n",
      "filled_area               3.232260e+05  \n",
      "inertia_tensor_eigvals-0  7.966679e+04  \n",
      "inertia_tensor_eigvals-1  2.514296e+04  \n",
      "local_centroid-0          4.068961e+02  \n",
      "local_centroid-1          5.572730e+02  \n",
      "major_axis_length         1.129012e+03  \n",
      "minor_axis_length         6.342613e+02  \n",
      "moments_hu-0              3.691648e+01  \n",
      "moments_hu-1              1.362826e+03  \n",
      "moments_hu-2              8.975146e+03  \n",
      "moments_hu-3              7.164918e+03  \n",
      "moments_hu-4              5.740079e+07  \n",
      "moments_hu-5              1.946414e+05  \n",
      "moments_hu-6              6.355684e+05  \n",
      "orientation               1.570796e+00  \n",
      "perimeter                 2.090036e+04  \n",
      "solidity                  1.000000e+00  \n"
     ]
    }
   ],
   "source": [
    "print(df.describe().T)"
   ]
  },
  {
   "cell_type": "code",
   "execution_count": 4,
   "id": "single-radio",
   "metadata": {
    "scrolled": true
   },
   "outputs": [
    {
     "name": "stdout",
     "output_type": "stream",
     "text": [
      "img_no                      0\n",
      "area                        0\n",
      "bbox-0                      0\n",
      "bbox-1                      0\n",
      "bbox-2                      0\n",
      "bbox-3                      0\n",
      "bbox_area                   0\n",
      "centroid-0                  0\n",
      "centroid-1                  0\n",
      "convex_area                 0\n",
      "eccentricity                0\n",
      "equivalent_diameter         0\n",
      "euler_number                0\n",
      "extent                      0\n",
      "filled_area                 0\n",
      "inertia_tensor_eigvals-0    0\n",
      "inertia_tensor_eigvals-1    0\n",
      "local_centroid-0            0\n",
      "local_centroid-1            0\n",
      "major_axis_length           0\n",
      "minor_axis_length           0\n",
      "moments_hu-0                0\n",
      "moments_hu-1                0\n",
      "moments_hu-2                0\n",
      "moments_hu-3                0\n",
      "moments_hu-4                0\n",
      "moments_hu-5                0\n",
      "moments_hu-6                0\n",
      "orientation                 0\n",
      "perimeter                   0\n",
      "slice                       0\n",
      "solidity                    0\n",
      "label                       0\n",
      "dtype: int64\n"
     ]
    }
   ],
   "source": [
    "print(df.isnull().sum())"
   ]
  },
  {
   "cell_type": "code",
   "execution_count": 5,
   "id": "tutorial-message",
   "metadata": {
    "scrolled": true
   },
   "outputs": [
    {
     "name": "stdout",
     "output_type": "stream",
     "text": [
      "img_no                        int64\n",
      "area                          int64\n",
      "bbox-0                        int64\n",
      "bbox-1                        int64\n",
      "bbox-2                        int64\n",
      "bbox-3                        int64\n",
      "bbox_area                     int64\n",
      "centroid-0                  float64\n",
      "centroid-1                  float64\n",
      "convex_area                   int64\n",
      "eccentricity                float64\n",
      "equivalent_diameter         float64\n",
      "euler_number                  int64\n",
      "extent                      float64\n",
      "filled_area                   int64\n",
      "inertia_tensor_eigvals-0    float64\n",
      "inertia_tensor_eigvals-1    float64\n",
      "local_centroid-0            float64\n",
      "local_centroid-1            float64\n",
      "major_axis_length           float64\n",
      "minor_axis_length           float64\n",
      "moments_hu-0                float64\n",
      "moments_hu-1                float64\n",
      "moments_hu-2                float64\n",
      "moments_hu-3                float64\n",
      "moments_hu-4                float64\n",
      "moments_hu-5                float64\n",
      "moments_hu-6                float64\n",
      "orientation                 float64\n",
      "perimeter                   float64\n",
      "slice                        object\n",
      "solidity                    float64\n",
      "label                        object\n",
      "dtype: object\n"
     ]
    }
   ],
   "source": [
    "print(df.dtypes)"
   ]
  },
  {
   "cell_type": "code",
   "execution_count": 6,
   "id": "missing-arthritis",
   "metadata": {},
   "outputs": [
    {
     "data": {
      "text/plain": [
       "<AxesSubplot:xlabel='label', ylabel='count'>"
      ]
     },
     "execution_count": 6,
     "metadata": {},
     "output_type": "execute_result"
    },
    {
     "data": {
      "image/png": "[encoded data removed]",
      "text/plain": [
       "<Figure size 432x288 with 1 Axes>"
      ]
     },
     "metadata": {
      "needs_background": "light"
     },
     "output_type": "display_data"
    }
   ],
   "source": [
    "sns.countplot(x='label', data=df)"
   ]
  },
  {
   "cell_type": "code",
   "execution_count": 7,
   "id": "civic-syria",
   "metadata": {},
   "outputs": [
    {
     "name": "stdout",
     "output_type": "stream",
     "text": [
      "cavity                5892\n",
      "missing_tooth         2123\n",
      "root_canal_treated    1729\n",
      "restoration           1298\n",
      "crown                  790\n",
      "Name: label, dtype: int64\n"
     ]
    }
   ],
   "source": [
    "print(df['label'].value_counts())"
   ]
  },
  {
   "cell_type": "code",
   "execution_count": 8,
   "id": "prescription-leather",
   "metadata": {},
   "outputs": [
    {
     "name": "stdout",
     "output_type": "stream",
     "text": [
      "['cavity' 'crown' 'missing_tooth' 'restoration' 'root_canal_treated']\n"
     ]
    }
   ],
   "source": [
    "y = df['label'].values\n",
    "print(np.unique(y))"
   ]
  },
  {
   "cell_type": "code",
   "execution_count": 9,
   "id": "exciting-italic",
   "metadata": {},
   "outputs": [
    {
     "name": "stdout",
     "output_type": "stream",
     "text": [
      "[0 1 2 3 4]\n"
     ]
    }
   ],
   "source": [
    "from sklearn.preprocessing import LabelEncoder\n",
    "labelencoder = LabelEncoder()\n",
    "Y = labelencoder.fit_transform(y)\n",
    "print(np.unique(Y))"
   ]
  },
  {
   "cell_type": "code",
   "execution_count": 10,
   "id": "charged-navigator",
   "metadata": {
    "scrolled": true
   },
   "outputs": [
    {
     "name": "stdout",
     "output_type": "stream",
     "text": [
      "                            count          mean            std           min  \\\n",
      "area                      11832.0  12107.747295   33344.483685  7.100000e+01   \n",
      "bbox-0                    11832.0    152.872972     145.501337  0.000000e+00   \n",
      "bbox-1                    11832.0    180.229462     178.493655  0.000000e+00   \n",
      "bbox-2                    11832.0    252.858857     150.493227  1.000000e+00   \n",
      "bbox-3                    11832.0    299.469912     195.293846  1.000000e+00   \n",
      "bbox_area                 11832.0  33020.895791   84308.766262  7.200000e+01   \n",
      "centroid-0                11832.0    202.416966     133.737039  0.000000e+00   \n",
      "centroid-1                11832.0    239.987850     168.447276  0.000000e+00   \n",
      "convex_area               11832.0  26765.656271   71348.842186  7.200000e+01   \n",
      "eccentricity              11832.0      0.848338       0.142836  1.245593e-01   \n",
      "equivalent_diameter       11832.0     67.475814     104.230492  9.507892e+00   \n",
      "euler_number              11832.0    -35.660074      90.674278 -8.670000e+02   \n",
      "extent                    11832.0      0.408751       0.155130  8.768589e-03   \n",
      "filled_area               11832.0  13428.484280   38053.752960  7.100000e+01   \n",
      "inertia_tensor_eigvals-0  11832.0   3634.116443    8516.382353  6.900291e+00   \n",
      "inertia_tensor_eigvals-1  11832.0   1190.727461    3415.935189  0.000000e+00   \n",
      "local_centroid-0          11832.0     49.543994      72.345343  0.000000e+00   \n",
      "local_centroid-1          11832.0     59.758388      94.579148  0.000000e+00   \n",
      "major_axis_length         11832.0    144.451234     193.087688  1.050736e+01   \n",
      "minor_axis_length         11832.0     68.643102     119.753814  0.000000e+00   \n",
      "moments_hu-0              11832.0      1.352588       4.008189  1.611749e-01   \n",
      "moments_hu-1              11832.0     17.463512     116.179618  1.840000e-06   \n",
      "moments_hu-2              11832.0     11.392966     186.195686  0.000000e+00   \n",
      "moments_hu-3              11832.0      7.813431     147.998898  0.000000e+00   \n",
      "moments_hu-4              11832.0  23264.648466  913588.407444 -4.499149e+04   \n",
      "moments_hu-5              11832.0    140.627526    3360.297002 -2.063033e+03   \n",
      "moments_hu-6              11832.0   -822.541921   74082.988072 -7.285737e+06   \n",
      "orientation               11832.0      0.041641       0.975551 -1.570785e+00   \n",
      "perimeter                 11832.0   1300.182716    2766.424590  3.055635e+01   \n",
      "solidity                  11832.0      0.582792       0.173314  1.772474e-02   \n",
      "\n",
      "                                   25%           50%           75%  \\\n",
      "area                      1.230000e+02  3.445000e+02  3.165250e+03   \n",
      "bbox-0                    2.900000e+01  1.090000e+02  2.480000e+02   \n",
      "bbox-1                    2.500000e+01  1.280000e+02  2.850000e+02   \n",
      "bbox-2                    1.380000e+02  2.000000e+02  3.860000e+02   \n",
      "bbox-3                    1.510000e+02  2.510000e+02  4.672500e+02   \n",
      "bbox_area                 3.080000e+02  1.008000e+03  9.800750e+03   \n",
      "centroid-0                9.875549e+01  1.696852e+02  2.967384e+02   \n",
      "centroid-1                1.066573e+02  2.003457e+02  3.616015e+02   \n",
      "convex_area               2.020000e+02  6.320000e+02  6.739750e+03   \n",
      "eccentricity              7.782676e-01  8.881413e-01  9.595618e-01   \n",
      "equivalent_diameter       1.251433e+01  2.094351e+01  6.348317e+01   \n",
      "euler_number             -1.600000e+01 -1.000000e+00  1.000000e+00   \n",
      "extent                    3.221780e-01  4.087115e-01  4.974726e-01   \n",
      "filled_area               1.240000e+02  3.520000e+02  3.260750e+03   \n",
      "inertia_tensor_eigvals-0  3.935811e+01  1.837914e+02  2.009728e+03   \n",
      "inertia_tensor_eigvals-1  5.455994e+00  1.602964e+01  2.010142e+02   \n",
      "local_centroid-0          8.252976e+00  1.639339e+01  5.880962e+01   \n",
      "local_centroid-1          7.882353e+00  1.670050e+01  6.383657e+01   \n",
      "major_axis_length         2.509442e+01  5.422788e+01  1.793200e+02   \n",
      "minor_axis_length         9.343228e+00  1.601481e+01  5.671180e+01   \n",
      "moments_hu-0              2.631569e-01  3.447490e-01  5.545822e-01   \n",
      "moments_hu-1              1.413551e-02  4.751850e-02  2.006659e-01   \n",
      "moments_hu-2              1.361789e-03  5.322190e-03  2.593163e-02   \n",
      "moments_hu-3              2.232728e-04  1.362267e-03  1.043415e-02   \n",
      "moments_hu-4              9.260000e-11  8.915000e-07  7.552500e-05   \n",
      "moments_hu-5             -7.100000e-08  6.780000e-05  1.892503e-03   \n",
      "moments_hu-6             -8.892500e-07  0.000000e+00  9.880000e-07   \n",
      "orientation              -7.509348e-01  2.774628e-02  9.155654e-01   \n",
      "perimeter                 7.676955e+01  1.762071e+02  8.114237e+02   \n",
      "solidity                  4.929634e-01  5.985074e-01  6.970971e-01   \n",
      "\n",
      "                                   max  \n",
      "area                      2.237670e+05  \n",
      "bbox-0                    5.120000e+02  \n",
      "bbox-1                    6.590000e+02  \n",
      "bbox-2                    5.140000e+02  \n",
      "bbox-3                    6.600000e+02  \n",
      "bbox_area                 3.392400e+05  \n",
      "centroid-0                5.129529e+02  \n",
      "centroid-1                6.590000e+02  \n",
      "convex_area               3.293900e+05  \n",
      "eccentricity              1.000000e+00  \n",
      "equivalent_diameter       5.337687e+02  \n",
      "euler_number              1.000000e+00  \n",
      "extent                    1.000000e+00  \n",
      "filled_area               3.232260e+05  \n",
      "inertia_tensor_eigvals-0  7.966679e+04  \n",
      "inertia_tensor_eigvals-1  2.514296e+04  \n",
      "local_centroid-0          4.068961e+02  \n",
      "local_centroid-1          5.572730e+02  \n",
      "major_axis_length         1.129012e+03  \n",
      "minor_axis_length         6.342613e+02  \n",
      "moments_hu-0              3.691648e+01  \n",
      "moments_hu-1              1.362826e+03  \n",
      "moments_hu-2              8.975146e+03  \n",
      "moments_hu-3              7.164918e+03  \n",
      "moments_hu-4              5.740079e+07  \n",
      "moments_hu-5              1.946414e+05  \n",
      "moments_hu-6              6.355684e+05  \n",
      "orientation               1.570796e+00  \n",
      "perimeter                 2.090036e+04  \n",
      "solidity                  1.000000e+00  \n"
     ]
    }
   ],
   "source": [
    "X = df.drop(labels = ['label', 'img_no', 'slice'], axis=1)\n",
    "print(X.describe().T)"
   ]
  },
  {
   "cell_type": "code",
   "execution_count": 11,
   "id": "covered-message",
   "metadata": {},
   "outputs": [
    {
     "name": "stdout",
     "output_type": "stream",
     "text": [
      "[[1.81496316e-03 0.00000000e+00 1.63884674e-01 ... 9.21749226e-05\n",
      "  2.07921924e-02 4.18652604e-01]\n",
      " [3.30435055e-01 1.95312500e-03 0.00000000e+00 ... 2.12747173e-02\n",
      "  3.95281949e-01 4.72288997e-01]\n",
      " [8.09531686e-01 1.95312500e-03 0.00000000e+00 ... 8.50336935e-02\n",
      "  5.43763475e-01 6.44018610e-01]\n",
      " ...\n",
      " [5.67734783e-04 5.62500000e-01 6.98027314e-02 ... 6.35909401e-01\n",
      "  4.02724130e-03 5.67922942e-01]\n",
      " [7.41273872e-02 6.48437500e-01 2.77693475e-01 ... 9.71254442e-01\n",
      "  6.04114405e-02 7.83122492e-01]\n",
      " [6.62506258e-03 9.31640625e-01 4.67374810e-01 ... 9.74430361e-01\n",
      "  1.10485351e-02 8.75693822e-01]]\n"
     ]
    }
   ],
   "source": [
    "from sklearn.preprocessing import MinMaxScaler\n",
    "scalar = MinMaxScaler()\n",
    "scalar.fit(X)\n",
    "X = scalar.transform(X)\n",
    "print(X)"
   ]
  },
  {
   "cell_type": "code",
   "execution_count": 12,
   "id": "proprietary-african",
   "metadata": {},
   "outputs": [
    {
     "name": "stdout",
     "output_type": "stream",
     "text": [
      "(8874, 30)\n",
      "(2958, 30)\n",
      "(8874,)\n",
      "(2958,)\n"
     ]
    }
   ],
   "source": [
    "from sklearn.model_selection import train_test_split\n",
    "x_train, x_test, y_train, y_test = train_test_split(X, Y, test_size=0.25, random_state=42)\n",
    "print(x_train.shape)\n",
    "print(x_test.shape)\n",
    "print(y_train.shape)\n",
    "print(y_test.shape)"
   ]
  },
  {
   "cell_type": "code",
   "execution_count": 13,
   "id": "black-machinery",
   "metadata": {},
   "outputs": [],
   "source": [
    "from keras.models import Sequential\n",
    "from keras.layers import Dense, Activation, Dropout"
   ]
  },
  {
   "cell_type": "code",
   "execution_count": 16,
   "id": "compliant-constant",
   "metadata": {},
   "outputs": [
    {
     "name": "stdout",
     "output_type": "stream",
     "text": [
      "Model: \"sequential_1\"\n",
      "_________________________________________________________________\n",
      "Layer (type)                 Output Shape              Param #   \n",
      "=================================================================\n",
      "dense_2 (Dense)              (None, 16)                496       \n",
      "_________________________________________________________________\n",
      "dropout_1 (Dropout)          (None, 16)                0         \n",
      "_________________________________________________________________\n",
      "dense_3 (Dense)              (None, 5)                 85        \n",
      "_________________________________________________________________\n",
      "activation_1 (Activation)    (None, 5)                 0         \n",
      "=================================================================\n",
      "Total params: 581\n",
      "Trainable params: 581\n",
      "Non-trainable params: 0\n",
      "_________________________________________________________________\n",
      "None\n"
     ]
    }
   ],
   "source": [
    "model = Sequential()\n",
    "model.add(Dense(16, input_dim=30, activation='relu'))\n",
    "model.add(Dropout(0.2))\n",
    "model.add(Dense(5))\n",
    "model.add(Activation('softmax'))\n",
    "model.compile(loss='sparse_categorical_crossentropy',\n",
    "             optimizer='adam',\n",
    "             metrics=['accuracy'])\n",
    "\n",
    "print(model.summary())"
   ]
  },
  {
   "cell_type": "code",
   "execution_count": 17,
   "id": "received-rating",
   "metadata": {},
   "outputs": [
    {
     "name": "stdout",
     "output_type": "stream",
     "text": [
      "Epoch 1/100\n",
      "139/139 [==============================] - 1s 8ms/step - loss: 1.4439 - accuracy: 0.4600 - val_loss: 1.3474 - val_accuracy: 0.5135\n",
      "Epoch 2/100\n",
      "139/139 [==============================] - 0s 3ms/step - loss: 1.3815 - accuracy: 0.4928 - val_loss: 1.3460 - val_accuracy: 0.5135\n",
      "Epoch 3/100\n",
      "139/139 [==============================] - 0s 3ms/step - loss: 1.3767 - accuracy: 0.4928 - val_loss: 1.3453 - val_accuracy: 0.5135\n",
      "Epoch 4/100\n",
      "139/139 [==============================] - 1s 4ms/step - loss: 1.3751 - accuracy: 0.4928 - val_loss: 1.3456 - val_accuracy: 0.5135\n",
      "Epoch 5/100\n",
      "139/139 [==============================] - 1s 4ms/step - loss: 1.3752 - accuracy: 0.4928 - val_loss: 1.3441 - val_accuracy: 0.5135\n",
      "Epoch 6/100\n",
      "139/139 [==============================] - 1s 4ms/step - loss: 1.3722 - accuracy: 0.4928 - val_loss: 1.3447 - val_accuracy: 0.5135\n",
      "Epoch 7/100\n",
      "139/139 [==============================] - 1s 4ms/step - loss: 1.3752 - accuracy: 0.4928 - val_loss: 1.3429 - val_accuracy: 0.5135\n",
      "Epoch 8/100\n",
      "139/139 [==============================] - 0s 3ms/step - loss: 1.3727 - accuracy: 0.4928 - val_loss: 1.3424 - val_accuracy: 0.5135\n",
      "Epoch 9/100\n",
      "139/139 [==============================] - 0s 3ms/step - loss: 1.3725 - accuracy: 0.4928 - val_loss: 1.3441 - val_accuracy: 0.5135\n",
      "Epoch 10/100\n",
      "139/139 [==============================] - 0s 3ms/step - loss: 1.3697 - accuracy: 0.4928 - val_loss: 1.3433 - val_accuracy: 0.5135\n",
      "Epoch 11/100\n",
      "139/139 [==============================] - 0s 3ms/step - loss: 1.3692 - accuracy: 0.4928 - val_loss: 1.3455 - val_accuracy: 0.5135\n",
      "Epoch 12/100\n",
      "139/139 [==============================] - 0s 3ms/step - loss: 1.3704 - accuracy: 0.4928 - val_loss: 1.3426 - val_accuracy: 0.5135\n",
      "Epoch 13/100\n",
      "139/139 [==============================] - 0s 3ms/step - loss: 1.3701 - accuracy: 0.4928 - val_loss: 1.3426 - val_accuracy: 0.5135\n",
      "Epoch 14/100\n",
      "139/139 [==============================] - 1s 4ms/step - loss: 1.3685 - accuracy: 0.4928 - val_loss: 1.3434 - val_accuracy: 0.5135\n",
      "Epoch 15/100\n",
      "139/139 [==============================] - 1s 4ms/step - loss: 1.3689 - accuracy: 0.4928 - val_loss: 1.3428 - val_accuracy: 0.5135\n",
      "Epoch 16/100\n",
      "139/139 [==============================] - 1s 4ms/step - loss: 1.3671 - accuracy: 0.4928 - val_loss: 1.3429 - val_accuracy: 0.5135\n",
      "Epoch 17/100\n",
      "139/139 [==============================] - 1s 4ms/step - loss: 1.3673 - accuracy: 0.4928 - val_loss: 1.3427 - val_accuracy: 0.5135\n",
      "Epoch 18/100\n",
      "139/139 [==============================] - 1s 5ms/step - loss: 1.3691 - accuracy: 0.4928 - val_loss: 1.3435 - val_accuracy: 0.5135\n",
      "Epoch 19/100\n",
      "139/139 [==============================] - 1s 4ms/step - loss: 1.3683 - accuracy: 0.4928 - val_loss: 1.3447 - val_accuracy: 0.5135\n",
      "Epoch 20/100\n",
      "139/139 [==============================] - 1s 5ms/step - loss: 1.3673 - accuracy: 0.4928 - val_loss: 1.3427 - val_accuracy: 0.5135\n",
      "Epoch 21/100\n",
      "139/139 [==============================] - 1s 5ms/step - loss: 1.3679 - accuracy: 0.4928 - val_loss: 1.3446 - val_accuracy: 0.5135\n",
      "Epoch 22/100\n",
      "139/139 [==============================] - 1s 4ms/step - loss: 1.3692 - accuracy: 0.4928 - val_loss: 1.3446 - val_accuracy: 0.5135\n",
      "Epoch 23/100\n",
      "139/139 [==============================] - 1s 4ms/step - loss: 1.3660 - accuracy: 0.4928 - val_loss: 1.3427 - val_accuracy: 0.5135\n",
      "Epoch 24/100\n",
      "139/139 [==============================] - 1s 4ms/step - loss: 1.3670 - accuracy: 0.4928 - val_loss: 1.3452 - val_accuracy: 0.5135\n",
      "Epoch 25/100\n",
      "139/139 [==============================] - 1s 5ms/step - loss: 1.3662 - accuracy: 0.4928 - val_loss: 1.3423 - val_accuracy: 0.5135\n",
      "Epoch 26/100\n",
      "139/139 [==============================] - 1s 5ms/step - loss: 1.3666 - accuracy: 0.4928 - val_loss: 1.3427 - val_accuracy: 0.5135\n",
      "Epoch 27/100\n",
      "139/139 [==============================] - 1s 4ms/step - loss: 1.3658 - accuracy: 0.4928 - val_loss: 1.3434 - val_accuracy: 0.5135\n",
      "Epoch 28/100\n",
      "139/139 [==============================] - 1s 4ms/step - loss: 1.3664 - accuracy: 0.4928 - val_loss: 1.3427 - val_accuracy: 0.5135\n",
      "Epoch 29/100\n",
      "139/139 [==============================] - 1s 4ms/step - loss: 1.3662 - accuracy: 0.4928 - val_loss: 1.3430 - val_accuracy: 0.5135\n",
      "Epoch 30/100\n",
      "139/139 [==============================] - 1s 4ms/step - loss: 1.3644 - accuracy: 0.4928 - val_loss: 1.3423 - val_accuracy: 0.5135\n",
      "Epoch 31/100\n",
      "139/139 [==============================] - 1s 4ms/step - loss: 1.3650 - accuracy: 0.4928 - val_loss: 1.3435 - val_accuracy: 0.5135\n",
      "Epoch 32/100\n",
      "139/139 [==============================] - 1s 4ms/step - loss: 1.3658 - accuracy: 0.4928 - val_loss: 1.3437 - val_accuracy: 0.5135\n",
      "Epoch 33/100\n",
      "139/139 [==============================] - 1s 5ms/step - loss: 1.3663 - accuracy: 0.4928 - val_loss: 1.3424 - val_accuracy: 0.5135\n",
      "Epoch 34/100\n",
      "139/139 [==============================] - 1s 5ms/step - loss: 1.3655 - accuracy: 0.4928 - val_loss: 1.3441 - val_accuracy: 0.5135\n",
      "Epoch 35/100\n",
      "139/139 [==============================] - 1s 4ms/step - loss: 1.3656 - accuracy: 0.4928 - val_loss: 1.3437 - val_accuracy: 0.5135\n",
      "Epoch 36/100\n",
      "139/139 [==============================] - 1s 4ms/step - loss: 1.3647 - accuracy: 0.4928 - val_loss: 1.3421 - val_accuracy: 0.5135\n",
      "Epoch 37/100\n",
      "139/139 [==============================] - 1s 4ms/step - loss: 1.3643 - accuracy: 0.4928 - val_loss: 1.3422 - val_accuracy: 0.5135\n",
      "Epoch 38/100\n",
      "139/139 [==============================] - 1s 4ms/step - loss: 1.3639 - accuracy: 0.4928 - val_loss: 1.3427 - val_accuracy: 0.5135\n",
      "Epoch 39/100\n",
      "139/139 [==============================] - 0s 2ms/step - loss: 1.3645 - accuracy: 0.4928 - val_loss: 1.3436 - val_accuracy: 0.5135\n",
      "Epoch 40/100\n",
      "139/139 [==============================] - 0s 3ms/step - loss: 1.3642 - accuracy: 0.4928 - val_loss: 1.3421 - val_accuracy: 0.5135\n",
      "Epoch 41/100\n",
      "139/139 [==============================] - 1s 5ms/step - loss: 1.3645 - accuracy: 0.4928 - val_loss: 1.3429 - val_accuracy: 0.5135\n",
      "Epoch 42/100\n",
      "139/139 [==============================] - 0s 3ms/step - loss: 1.3645 - accuracy: 0.4928 - val_loss: 1.3427 - val_accuracy: 0.5135\n",
      "Epoch 43/100\n",
      "139/139 [==============================] - 1s 5ms/step - loss: 1.3647 - accuracy: 0.4928 - val_loss: 1.3430 - val_accuracy: 0.5135\n",
      "Epoch 44/100\n",
      "139/139 [==============================] - 1s 4ms/step - loss: 1.3652 - accuracy: 0.4928 - val_loss: 1.3426 - val_accuracy: 0.5135\n",
      "Epoch 45/100\n",
      "139/139 [==============================] - 1s 4ms/step - loss: 1.3640 - accuracy: 0.4928 - val_loss: 1.3434 - val_accuracy: 0.5135\n",
      "Epoch 46/100\n",
      "139/139 [==============================] - 1s 5ms/step - loss: 1.3644 - accuracy: 0.4928 - val_loss: 1.3428 - val_accuracy: 0.5135\n",
      "Epoch 47/100\n",
      "139/139 [==============================] - 1s 4ms/step - loss: 1.3638 - accuracy: 0.4928 - val_loss: 1.3435 - val_accuracy: 0.5135\n",
      "Epoch 48/100\n",
      "139/139 [==============================] - 1s 4ms/step - loss: 1.3639 - accuracy: 0.4928 - val_loss: 1.3438 - val_accuracy: 0.5135\n",
      "Epoch 49/100\n",
      "139/139 [==============================] - 1s 4ms/step - loss: 1.3646 - accuracy: 0.4928 - val_loss: 1.3434 - val_accuracy: 0.5135\n",
      "Epoch 50/100\n",
      "139/139 [==============================] - 1s 4ms/step - loss: 1.3641 - accuracy: 0.4928 - val_loss: 1.3431 - val_accuracy: 0.5135\n",
      "Epoch 51/100\n",
      "139/139 [==============================] - 1s 5ms/step - loss: 1.3640 - accuracy: 0.4928 - val_loss: 1.3445 - val_accuracy: 0.5135\n",
      "Epoch 52/100\n",
      "139/139 [==============================] - 1s 4ms/step - loss: 1.3637 - accuracy: 0.4928 - val_loss: 1.3427 - val_accuracy: 0.5135\n",
      "Epoch 53/100\n",
      "139/139 [==============================] - 1s 4ms/step - loss: 1.3630 - accuracy: 0.4928 - val_loss: 1.3425 - val_accuracy: 0.5135\n",
      "Epoch 54/100\n",
      "139/139 [==============================] - 1s 4ms/step - loss: 1.3642 - accuracy: 0.4928 - val_loss: 1.3427 - val_accuracy: 0.5135\n",
      "Epoch 55/100\n",
      "139/139 [==============================] - 1s 4ms/step - loss: 1.3637 - accuracy: 0.4928 - val_loss: 1.3427 - val_accuracy: 0.5135\n",
      "Epoch 56/100\n",
      "139/139 [==============================] - 1s 4ms/step - loss: 1.3633 - accuracy: 0.4928 - val_loss: 1.3437 - val_accuracy: 0.5135\n",
      "Epoch 57/100\n",
      "139/139 [==============================] - 1s 4ms/step - loss: 1.3623 - accuracy: 0.4928 - val_loss: 1.3422 - val_accuracy: 0.5135\n"
     ]
    },
    {
     "name": "stdout",
     "output_type": "stream",
     "text": [
      "Epoch 58/100\n",
      "139/139 [==============================] - 1s 4ms/step - loss: 1.3631 - accuracy: 0.4928 - val_loss: 1.3423 - val_accuracy: 0.5135\n",
      "Epoch 59/100\n",
      "139/139 [==============================] - 1s 5ms/step - loss: 1.3632 - accuracy: 0.4928 - val_loss: 1.3427 - val_accuracy: 0.5135\n",
      "Epoch 60/100\n",
      "139/139 [==============================] - 1s 4ms/step - loss: 1.3631 - accuracy: 0.4928 - val_loss: 1.3423 - val_accuracy: 0.5135\n",
      "Epoch 61/100\n",
      "139/139 [==============================] - 1s 4ms/step - loss: 1.3639 - accuracy: 0.4928 - val_loss: 1.3434 - val_accuracy: 0.5135\n",
      "Epoch 62/100\n",
      "139/139 [==============================] - 1s 4ms/step - loss: 1.3634 - accuracy: 0.4928 - val_loss: 1.3430 - val_accuracy: 0.5135\n",
      "Epoch 63/100\n",
      "139/139 [==============================] - 1s 4ms/step - loss: 1.3638 - accuracy: 0.4928 - val_loss: 1.3430 - val_accuracy: 0.5135\n",
      "Epoch 64/100\n",
      "139/139 [==============================] - 1s 4ms/step - loss: 1.3635 - accuracy: 0.4928 - val_loss: 1.3431 - val_accuracy: 0.5135\n",
      "Epoch 65/100\n",
      "139/139 [==============================] - 1s 4ms/step - loss: 1.3629 - accuracy: 0.4928 - val_loss: 1.3428 - val_accuracy: 0.5135\n",
      "Epoch 66/100\n",
      "139/139 [==============================] - 1s 4ms/step - loss: 1.3634 - accuracy: 0.4928 - val_loss: 1.3428 - val_accuracy: 0.5135\n",
      "Epoch 67/100\n",
      "139/139 [==============================] - 1s 4ms/step - loss: 1.3629 - accuracy: 0.4928 - val_loss: 1.3426 - val_accuracy: 0.5135\n",
      "Epoch 68/100\n",
      "139/139 [==============================] - 1s 4ms/step - loss: 1.3625 - accuracy: 0.4928 - val_loss: 1.3427 - val_accuracy: 0.5135\n",
      "Epoch 69/100\n",
      "139/139 [==============================] - 1s 4ms/step - loss: 1.3624 - accuracy: 0.4928 - val_loss: 1.3435 - val_accuracy: 0.5135\n",
      "Epoch 70/100\n",
      "139/139 [==============================] - 1s 4ms/step - loss: 1.3642 - accuracy: 0.4928 - val_loss: 1.3433 - val_accuracy: 0.5135\n",
      "Epoch 71/100\n",
      "139/139 [==============================] - 0s 3ms/step - loss: 1.3631 - accuracy: 0.4928 - val_loss: 1.3433 - val_accuracy: 0.5135\n",
      "Epoch 72/100\n",
      "139/139 [==============================] - 0s 3ms/step - loss: 1.3628 - accuracy: 0.4928 - val_loss: 1.3436 - val_accuracy: 0.5135\n",
      "Epoch 73/100\n",
      "139/139 [==============================] - 0s 3ms/step - loss: 1.3632 - accuracy: 0.4928 - val_loss: 1.3440 - val_accuracy: 0.5135\n",
      "Epoch 74/100\n",
      "139/139 [==============================] - 0s 3ms/step - loss: 1.3626 - accuracy: 0.4928 - val_loss: 1.3436 - val_accuracy: 0.5135\n",
      "Epoch 75/100\n",
      "139/139 [==============================] - 0s 3ms/step - loss: 1.3632 - accuracy: 0.4928 - val_loss: 1.3445 - val_accuracy: 0.5135\n",
      "Epoch 76/100\n",
      "139/139 [==============================] - 0s 3ms/step - loss: 1.3628 - accuracy: 0.4928 - val_loss: 1.3430 - val_accuracy: 0.5135\n",
      "Epoch 77/100\n",
      "139/139 [==============================] - 0s 3ms/step - loss: 1.3625 - accuracy: 0.4928 - val_loss: 1.3435 - val_accuracy: 0.5135\n",
      "Epoch 78/100\n",
      "139/139 [==============================] - 0s 3ms/step - loss: 1.3627 - accuracy: 0.4928 - val_loss: 1.3434 - val_accuracy: 0.5135\n",
      "Epoch 79/100\n",
      "139/139 [==============================] - 1s 4ms/step - loss: 1.3620 - accuracy: 0.4928 - val_loss: 1.3435 - val_accuracy: 0.5135\n",
      "Epoch 80/100\n",
      "139/139 [==============================] - 1s 4ms/step - loss: 1.3626 - accuracy: 0.4928 - val_loss: 1.3442 - val_accuracy: 0.5135\n",
      "Epoch 81/100\n",
      "139/139 [==============================] - 1s 4ms/step - loss: 1.3627 - accuracy: 0.4928 - val_loss: 1.3434 - val_accuracy: 0.5135\n",
      "Epoch 82/100\n",
      "139/139 [==============================] - 1s 4ms/step - loss: 1.3628 - accuracy: 0.4928 - val_loss: 1.3440 - val_accuracy: 0.5135\n",
      "Epoch 83/100\n",
      "139/139 [==============================] - 1s 4ms/step - loss: 1.3629 - accuracy: 0.4928 - val_loss: 1.3439 - val_accuracy: 0.5135\n",
      "Epoch 84/100\n",
      "139/139 [==============================] - 1s 4ms/step - loss: 1.3621 - accuracy: 0.4928 - val_loss: 1.3429 - val_accuracy: 0.5135\n",
      "Epoch 85/100\n",
      "139/139 [==============================] - 1s 4ms/step - loss: 1.3624 - accuracy: 0.4928 - val_loss: 1.3434 - val_accuracy: 0.5135\n",
      "Epoch 86/100\n",
      "139/139 [==============================] - 1s 4ms/step - loss: 1.3621 - accuracy: 0.4928 - val_loss: 1.3429 - val_accuracy: 0.5135\n",
      "Epoch 87/100\n",
      "139/139 [==============================] - 1s 4ms/step - loss: 1.3635 - accuracy: 0.4928 - val_loss: 1.3440 - val_accuracy: 0.5135\n",
      "Epoch 88/100\n",
      "139/139 [==============================] - 1s 4ms/step - loss: 1.3624 - accuracy: 0.4928 - val_loss: 1.3438 - val_accuracy: 0.5135\n",
      "Epoch 89/100\n",
      "139/139 [==============================] - 1s 4ms/step - loss: 1.3615 - accuracy: 0.4928 - val_loss: 1.3437 - val_accuracy: 0.5135\n",
      "Epoch 90/100\n",
      "139/139 [==============================] - 1s 4ms/step - loss: 1.3628 - accuracy: 0.4928 - val_loss: 1.3436 - val_accuracy: 0.5135\n",
      "Epoch 91/100\n",
      "139/139 [==============================] - 1s 4ms/step - loss: 1.3626 - accuracy: 0.4928 - val_loss: 1.3436 - val_accuracy: 0.5135\n",
      "Epoch 92/100\n",
      "139/139 [==============================] - 1s 4ms/step - loss: 1.3624 - accuracy: 0.4928 - val_loss: 1.3437 - val_accuracy: 0.5135\n",
      "Epoch 93/100\n",
      "139/139 [==============================] - 1s 4ms/step - loss: 1.3616 - accuracy: 0.4928 - val_loss: 1.3436 - val_accuracy: 0.5135\n",
      "Epoch 94/100\n",
      "139/139 [==============================] - 1s 4ms/step - loss: 1.3625 - accuracy: 0.4928 - val_loss: 1.3437 - val_accuracy: 0.5135\n",
      "Epoch 95/100\n",
      "139/139 [==============================] - 1s 4ms/step - loss: 1.3626 - accuracy: 0.4928 - val_loss: 1.3438 - val_accuracy: 0.5135\n",
      "Epoch 96/100\n",
      "139/139 [==============================] - 1s 4ms/step - loss: 1.3625 - accuracy: 0.4928 - val_loss: 1.3441 - val_accuracy: 0.5135\n",
      "Epoch 97/100\n",
      "139/139 [==============================] - 1s 4ms/step - loss: 1.3626 - accuracy: 0.4928 - val_loss: 1.3438 - val_accuracy: 0.5135\n",
      "Epoch 98/100\n",
      "139/139 [==============================] - 1s 4ms/step - loss: 1.3621 - accuracy: 0.4928 - val_loss: 1.3442 - val_accuracy: 0.5135\n",
      "Epoch 99/100\n",
      "139/139 [==============================] - 1s 4ms/step - loss: 1.3621 - accuracy: 0.4928 - val_loss: 1.3438 - val_accuracy: 0.5135\n",
      "Epoch 100/100\n",
      "139/139 [==============================] - 1s 4ms/step - loss: 1.3622 - accuracy: 0.4928 - val_loss: 1.3431 - val_accuracy: 0.5135\n"
     ]
    }
   ],
   "source": [
    "history = model.fit(x_train, y_train, verbose=1, epochs=100, batch_size=64, \n",
    "                   validation_data=(x_test, y_test))"
   ]
  },
  {
   "cell_type": "code",
   "execution_count": null,
   "id": "confused-replacement",
   "metadata": {},
   "outputs": [],
   "source": []
  }
 ],
 "metadata": {
  "kernelspec": {
   "display_name": "Python 3",
   "language": "python",
   "name": "python3"
  },
  "language_info": {
   "codemirror_mode": {
    "name": "ipython",
    "version": 3
   },
   "file_extension": ".py",
   "mimetype": "text/x-python",
   "name": "python",
   "nbconvert_exporter": "python",
   "pygments_lexer": "ipython3",
   "version": "3.8.8"
  }
 },
 "nbformat": 4,
 "nbformat_minor": 5
}
