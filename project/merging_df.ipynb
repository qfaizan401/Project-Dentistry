{
 "cells": [
  {
   "cell_type": "code",
   "execution_count": 1,
   "id": "entire-lobby",
   "metadata": {},
   "outputs": [],
   "source": [
    "import pandas as pd\n",
    "import glob\n",
    "import os"
   ]
  },
  {
   "cell_type": "code",
   "execution_count": 2,
   "id": "placed-minute",
   "metadata": {},
   "outputs": [],
   "source": [
    "path = r'Final_CSVs/singal_csv/'\n",
    "filenames = glob.glob(path+\"\\*csv\")\n",
    "\n",
    "df = pd.concat((pd.read_csv(file)for file in filenames), ignore_index=True, sort=False)\n",
    "df.to_csv(os.path.join('Final_CSVs/singal_csv/','combine_dataset.csv'))"
   ]
  },
  {
   "cell_type": "code",
   "execution_count": null,
   "id": "fewer-match",
   "metadata": {},
   "outputs": [],
   "source": []
  }
 ],
 "metadata": {
  "kernelspec": {
   "display_name": "Python 3",
   "language": "python",
   "name": "python3"
  },
  "language_info": {
   "codemirror_mode": {
    "name": "ipython",
    "version": 3
   },
   "file_extension": ".py",
   "mimetype": "text/x-python",
   "name": "python",
   "nbconvert_exporter": "python",
   "pygments_lexer": "ipython3",
   "version": "3.8.8"
  }
 },
 "nbformat": 4,
 "nbformat_minor": 5
}
