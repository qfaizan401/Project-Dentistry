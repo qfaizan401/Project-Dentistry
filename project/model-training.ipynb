{
 "cells": [
  {
   "cell_type": "code",
   "execution_count": 1,
   "metadata": {},
   "outputs": [],
   "source": [
    "import pandas as pd\n",
    "import numpy as np\n",
    "import matplotlib.pyplot as plt\n",
    "from sklearn.tree import DecisionTreeClassifier\n",
    "from sklearn.model_selection import train_test_split, cross_val_score \n",
    "from sklearn.metrics import accuracy_score, confusion_matrix, roc_curve\n",
    "from sklearn import preprocessing"
   ]
  },
  {
   "cell_type": "code",
   "execution_count": 9,
   "metadata": {},
   "outputs": [
    {
     "name": "stdout",
     "output_type": "stream",
     "text": [
      "     0    1   27522  0.1   79  452  652  258996  82.76251725892014  \\\n",
      "0    1    2  155795    1    8  514  649  328833         244.685914   \n",
      "1   17   18   32285   68    0  514  372  165912         395.241350   \n",
      "2   73   74      72  195  260  212  271     187         202.583333   \n",
      "3   85   86      56  202  246  211  259     117         205.607143   \n",
      "4   98   99    5262  209  249  300  404   14105         256.716078   \n",
      "5  105  106      84  210  440  223  454     182         216.107143   \n",
      "6  118  119     196  214  420  234  439     380         223.045918   \n",
      "7  408  409      69  460  335  471  351     176         465.014493   \n",
      "\n",
      "   364.82443136399974  \\\n",
      "0          253.350672   \n",
      "1           78.165650   \n",
      "2          265.666667   \n",
      "3          252.803571   \n",
      "4          323.766249   \n",
      "5          445.678571   \n",
      "6          429.061224   \n",
      "7          342.000000   \n",
      "\n",
      "  [[False False False ... False False False]\\n [False False False ... False False False]\\n [False False False ... False False False]\\n ...\\n [False False False ... False False False]\\n [False False False ... False False False]\\n [False False False ... False False False]]  \\\n",
      "0  [[False False False ... False False False]\\n [...                                                                                                                                                                                                                              \n",
      "1  [[False False False ... False False False]\\n [...                                                                                                                                                                                                                              \n",
      "2  [[False  True  True False False False False Fa...                                                                                                                                                                                                                              \n",
      "3  [[False False False False False False False Fa...                                                                                                                                                                                                                              \n",
      "4  [[False False False ... False False False]\\n [...                                                                                                                                                                                                                              \n",
      "5  [[False False False False False False  True  T...                                                                                                                                                                                                                              \n",
      "6  [[False False False False False False False Fa...                                                                                                                                                                                                                              \n",
      "7  [[False False  True  True False  True False Fa...                                                                                                                                                                                                                              \n",
      "\n",
      "  [[False False False ... False False False]\\n [False False False ... False False False]\\n [False False False ... False False False]\\n ...\\n [False False False ... False False False]\\n [False False False ... False False False]\\n [False False False ... False False False]].1  \\\n",
      "0  [[False False False ... False False False]\\n [...                                                                                                                                                                                                                                \n",
      "1  [[False False False ... False False False]\\n [...                                                                                                                                                                                                                                \n",
      "2  [[False  True  True False False False False Fa...                                                                                                                                                                                                                                \n",
      "3  [[False False False False False False False Fa...                                                                                                                                                                                                                                \n",
      "4  [[False False False ... False False False]\\n [...                                                                                                                                                                                                                                \n",
      "5  [[False False False False False False  True  T...                                                                                                                                                                                                                                \n",
      "6  [[False False False False False False False Fa...                                                                                                                                                                                                                                \n",
      "7  [[False False  True  True False  True False Fa...                                                                                                                                                                                                                                \n",
      "\n",
      "      (slice(0, 452, None), slice(79, 652, None))  10088.24437367745  \\\n",
      "0      (slice(1, 514, None), slice(8, 649, None))       21672.282273   \n",
      "1     (slice(68, 514, None), slice(0, 372, None))        4514.211742   \n",
      "2  (slice(195, 212, None), slice(260, 271, None))           9.166667   \n",
      "3  (slice(202, 211, None), slice(246, 259, None))           9.479273   \n",
      "4  (slice(209, 300, None), slice(249, 404, None))        1318.751138   \n",
      "5  (slice(210, 223, None), slice(440, 454, None))          11.241922   \n",
      "6  (slice(214, 234, None), slice(420, 439, None))          23.700333   \n",
      "7  (slice(460, 471, None), slice(335, 351, None))          20.463768   \n",
      "\n",
      "   -3930.998745854046  -3930.998745854046.1  4080.0144543566703  \\\n",
      "0        -3730.288574          -3730.288574        14934.926139   \n",
      "1        -4262.806977          -4262.806977         9070.520285   \n",
      "2           -4.694444             -4.694444           15.937500   \n",
      "3           -0.262117             -0.262117            3.917092   \n",
      "4          402.605706            402.605706          323.364846   \n",
      "5           -0.093963             -0.093963            7.048044   \n",
      "6            4.849750              4.849750           18.513198   \n",
      "7           -8.130435             -8.130435            6.275152   \n",
      "\n",
      "   0.21104209799861973  0.9356994974430439  \\\n",
      "0             0.528785            0.555634   \n",
      "1             0.391694            0.782365   \n",
      "2             0.549618            0.707734   \n",
      "3             0.674699            0.702801   \n",
      "4             0.686408            0.721354   \n",
      "5             0.682927            0.706256   \n",
      "6             0.678201            0.712705   \n",
      "7             0.690000            0.388178   \n",
      "\n",
      "  [[0. 0. 0. ... 0. 0. 0.]\\n [0. 0. 0. ... 0. 0. 0.]\\n [0. 0. 0. ... 0. 0. 0.]\\n ...\\n [0. 0. 0. ... 0. 0. 0.]\\n [0. 0. 0. ... 0. 0. 0.]\\n [0. 0. 0. ... 0. 0. 0.]]  \n",
      "0  [[0. 0. 0. ... 0. 0. 0.]\\n [0. 0. 0. ... 0. 0....                                                                                                                 \n",
      "1  [[0.         0.         0.         ... 0.     ...                                                                                                                 \n",
      "2  [[0.         0.69803922 0.69803922 0.         ...                                                                                                                 \n",
      "3  [[0.         0.         0.         0.         ...                                                                                                                 \n",
      "4  [[0. 0. 0. ... 0. 0. 0.]\\n [0. 0. 0. ... 0. 0....                                                                                                                 \n",
      "5  [[0.         0.         0.         0.         ...                                                                                                                 \n",
      "6  [[0.         0.         0.         0.         ...                                                                                                                 \n",
      "7  [[0.         0.         0.37647059 0.38431373 ...                                                                                                                 \n"
     ]
    }
   ],
   "source": [
    "df = pd.read_csv('Data/csv/crown/temp_img0.csv')\n",
    "print(df)"
   ]
  },
  {
   "cell_type": "code",
   "execution_count": null,
   "metadata": {},
   "outputs": [],
   "source": []
  }
 ],
 "metadata": {
  "kernelspec": {
   "display_name": "Python 3",
   "language": "python",
   "name": "python3"
  },
  "language_info": {
   "codemirror_mode": {
    "name": "ipython",
    "version": 3
   },
   "file_extension": ".py",
   "mimetype": "text/x-python",
   "name": "python",
   "nbconvert_exporter": "python",
   "pygments_lexer": "ipython3",
   "version": "3.7.6"
  }
 },
 "nbformat": 4,
 "nbformat_minor": 4
}
